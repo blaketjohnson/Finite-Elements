{
 "cells": [
  {
   "cell_type": "markdown",
   "metadata": {},
   "source": [
    "\n",
    "<center>\n",
    "\n",
    "# <span style=\"color:rgb(0,0,250)\">Homework 2</span>\n",
    "\n",
    "## <span style=\"color:rgb(0,0,250)\">AME 5763</span>\n",
    "## <span style=\"color:rgb(0,0,250)\">Blake Johnson</span>\n",
    "</center>\n",
    "\n",
    "### Problem 4.1:\n",
    "### Consider a four node cubic element in one dimension. The element length is 3 with $x_1 =-1$ ; the remaining nodes are equally spaced.\n",
    "#### Part A:\n",
    "#### Construct the Element Shape Function"
   ]
  },
  {
   "cell_type": "code",
   "execution_count": 202,
   "metadata": {},
   "outputs": [],
   "source": [
    "%% Define the shape functions for a 1D cubic element.\n",
    "% I used the Direct Construction Functions on page 83\n",
    "syms x\n",
    "\n",
    "x_1 = -1;\n",
    "x_2 = 0;\n",
    "x_3 = 1;\n",
    "x_4 = 2;\n",
    "% Shape function N1(x)\n",
    "N1 = ((x-x_2)*(x-x_3)*(x-x_4))/((x_1-x_2)*(x_1-x_3)*(x_1-x_4));\n",
    "% Shape function N2(x)\n",
    "N2 = ((x-x_1)*(x-x_3)*(x-x_4))/((x_2-x_1)*(x_2-x_3)*(x_2-x_4));\n",
    "% Shape function N3(x)\n",
    "N3 = ((x-x_1)*(x-x_2)*(x-x_4))/((x_3-x_1)*(x_3-x_2)*(x_3-x_4));\n",
    "% Shape function N4(x)\n",
    "N4 = ((x-x_1)*(x-x_2)*(x-x_3))/((x_4-x_1)*(x_4-x_2)*(x_4-x_3));\n"
   ]
  },
  {
   "cell_type": "markdown",
   "metadata": {},
   "source": [
    "\n",
    "The Element Shape functions are:\n"
   ]
  },
  {
   "cell_type": "code",
   "execution_count": 203,
   "metadata": {},
   "outputs": [
    {
     "name": "stdout",
     "output_type": "stream",
     "text": [
      "-(x*(x - 1)*(x - 2))/6\n",
      " \n"
     ]
    }
   ],
   "source": [
    "disp(N1)"
   ]
  },
  {
   "cell_type": "code",
   "execution_count": 204,
   "metadata": {},
   "outputs": [
    {
     "name": "stdout",
     "output_type": "stream",
     "text": [
      "((x - 1)*(x + 1)*(x - 2))/2\n",
      " \n"
     ]
    }
   ],
   "source": [
    "disp(N2)"
   ]
  },
  {
   "cell_type": "code",
   "execution_count": 205,
   "metadata": {},
   "outputs": [
    {
     "name": "stdout",
     "output_type": "stream",
     "text": [
      "-(x*(x + 1)*(x - 2))/2\n",
      " \n"
     ]
    }
   ],
   "source": [
    "disp(N3)"
   ]
  },
  {
   "cell_type": "code",
   "execution_count": 206,
   "metadata": {},
   "outputs": [
    {
     "name": "stdout",
     "output_type": "stream",
     "text": [
      "(x*(x - 1)*(x + 1))/6\n",
      " \n"
     ]
    }
   ],
   "source": [
    "disp(N4)"
   ]
  },
  {
   "cell_type": "markdown",
   "metadata": {},
   "source": [
    "\n",
    "\n",
    "#### Part B:\n",
    "#### Find the displacement field when\n",
    "$$\n",
    "d^{e} =\n",
    "\\begin{pmatrix}\n",
    "    u_1 \\\\\n",
    "    u_2 \\\\\n",
    "    u_3 \\\\\n",
    "    u_4\n",
    "\\end{pmatrix}\n",
    "= 10^{-3}\n",
    "\\begin{pmatrix}\n",
    "    1 \\\\\n",
    "    0 \\\\\n",
    "    1 \\\\\n",
    "    4\n",
    "\\end{pmatrix}\n",
    "$$\n",
    "\n",
    "\n"
   ]
  },
  {
   "cell_type": "code",
   "execution_count": 207,
   "metadata": {},
   "outputs": [],
   "source": [
    "\n",
    "u1 = 1e-3;\n",
    "u2 = 0;\n",
    "u3 = 1e-3;\n",
    "u4 = 4e-3;\n",
    "\n",
    "u = [u1; u2; u3; u4];\n",
    "% Displacement field u(x) from (4.5)\n",
    "u_x = N1*u1 + N2*u2 + N3*u3 + N4*u4;\n",
    "\n",
    "% Simplify the expression for clarity\n",
    "u_x_simplified = simplify(u_x);\n"
   ]
  },
  {
   "cell_type": "markdown",
   "metadata": {},
   "source": [
    "\n",
    "The displacement field in the element with the given parameters is:\n"
   ]
  },
  {
   "cell_type": "code",
   "execution_count": 208,
   "metadata": {},
   "outputs": [
    {
     "name": "stdout",
     "output_type": "stream",
     "text": [
      "(x*(x - 1)*(x + 1))/1500 - (x*(x - 1)*(x - 2))/6000 - (x*(x + 1)*(x - 2))/2000\n",
      " \n"
     ]
    }
   ],
   "source": [
    "disp(u_x)"
   ]
  },
  {
   "cell_type": "code",
   "execution_count": 209,
   "metadata": {},
   "outputs": [
    {
     "name": "stdout",
     "output_type": "stream",
     "text": [
      "x^2/1000\n",
      " \n"
     ]
    }
   ],
   "source": [
    "disp(u_x_simplified)"
   ]
  },
  {
   "cell_type": "markdown",
   "metadata": {},
   "source": [
    "\n",
    "#### Part C:\n",
    "#### Evaluate the $B^e$ matrix and find the strain for the above displacement field."
   ]
  },
  {
   "cell_type": "code",
   "execution_count": 210,
   "metadata": {},
   "outputs": [],
   "source": [
    "% The B matrix is the matirx that relates the nodal displacement to the\n",
    "% strain of the element (4.10) on page 81\n",
    "\n",
    "e_1 = diff(N1,x);\n",
    "e_2 = diff(N2,x);\n",
    "e_3 = diff(N3,x);\n",
    "e_4 = diff(N4,x);\n",
    "\n",
    "B_e = [e_1 e_2 e_3 e_4];\n",
    "\n",
    "% Strain of the displacement field is B_e*u(x) from (4.9)\n",
    "\n",
    "strain = B_e * u;\n",
    "strain_simplify = simplify(strain);"
   ]
  },
  {
   "cell_type": "markdown",
   "metadata": {},
   "source": [
    "\n",
    "The strain for the displacement field is:\n"
   ]
  },
  {
   "cell_type": "code",
   "execution_count": 211,
   "metadata": {},
   "outputs": [
    {
     "name": "stdout",
     "output_type": "stream",
     "text": [
      "((x - 1)*(x + 1))/1500 - ((x - 1)*(x - 2))/6000 - ((x + 1)*(x - 2))/2000 + (x*(x - 1))/2000 + (x*(x + 1))/6000 - (x*(x - 2))/1500\n",
      " \n"
     ]
    }
   ],
   "source": [
    "disp(strain)"
   ]
  },
  {
   "cell_type": "code",
   "execution_count": 212,
   "metadata": {},
   "outputs": [
    {
     "name": "stdout",
     "output_type": "stream",
     "text": [
      "x/500\n",
      " \n"
     ]
    }
   ],
   "source": [
    "disp(strain_simplify)"
   ]
  },
  {
   "cell_type": "markdown",
   "metadata": {},
   "source": [
    "#### Part D:\n",
    "#### Plot the Displacement Field $u(x)$ and Strain Field $\\epsilon (x)$\n"
   ]
  },
  {
   "cell_type": "code",
   "execution_count": 213,
   "metadata": {},
   "outputs": [],
   "source": [
    "% Define a range for x from -1 to 2 (element length)\n",
    "x_vals = linspace(-1, 2, 100);\n",
    "\n",
    "% Convert symbolic expressions to MATLAB functions for plotting\n",
    "% In other words my functions are mathematical equations where x is a symbol.\n",
    "% I need to set it up so that I can use numerical values for x to graph.\n",
    "% So, I am converting the equations to a format that can graph the functions accordingly.\n",
    "\n",
    "u_x_func = matlabFunction(u_x_simplified);\n",
    "strain_x_func = matlabFunction(strain_simplify);\n",
    "\n",
    "% Compute displacement and strain values over the range of x\n",
    "u_vals = u_x_func(x_vals);\n",
    "strain_vals = strain_x_func(x_vals);\n"
   ]
  },
  {
   "cell_type": "markdown",
   "metadata": {},
   "source": [
    "\n",
    "Plots of the displacement u(x) and the strain e(x):\n"
   ]
  },
  {
   "cell_type": "code",
   "execution_count": 214,
   "metadata": {},
   "outputs": [
    {
     "data": {
      "image/png": "[encoded data removed]",
      "text/plain": [
       "<IPython.core.display.Image object>"
      ]
     },
     "metadata": {},
     "output_type": "display_data"
    }
   ],
   "source": [
    "% Plot displacement field\n",
    "figure;\n",
    "plot(x_vals, u_vals, 'LineWidth', 2);\n",
    "title('Displacement Field u(x)');\n",
    "xlabel('x');\n",
    "ylabel('Displacement u(x)');\n",
    "grid on;"
   ]
  },
  {
   "cell_type": "code",
   "execution_count": 215,
   "metadata": {},
   "outputs": [
    {
     "data": {
      "image/png": "[encoded data removed]",
      "text/plain": [
       "<IPython.core.display.Image object>"
      ]
     },
     "metadata": {},
     "output_type": "display_data"
    }
   ],
   "source": [
    "\n",
    "% Plot strain field\n",
    "figure;\n",
    "plot(x_vals, strain_vals, 'LineWidth', 2, 'Color', 'r');\n",
    "title('Strain Field \\epsilon(x)');\n",
    "xlabel('x');\n",
    "ylabel('Strain \\epsilon(x)');\n",
    "grid on;"
   ]
  },
  {
   "cell_type": "markdown",
   "metadata": {},
   "source": [
    "#### Part E:\n",
    "#### Find the Strain Field when the nodal displacements are $d^{eT} =[1111]$ . Why is the result expected?"
   ]
  },
  {
   "cell_type": "code",
   "execution_count": 216,
   "metadata": {},
   "outputs": [],
   "source": [
    "% now the displacement field is changing and is given to us in the problem\n",
    "% Nodal displacements d^e = [1 1 1 1]\n",
    "u1_new = 1;\n",
    "u2_new = 1;\n",
    "u3_new = 1;\n",
    "u4_new = 1;\n",
    "\n",
    "% New displacement field u(x)\n",
    "u_new = N1*u1_new + N2*u2_new + N3*u3_new + N4*u4_new;\n",
    "\n",
    "% New strain field (derivative of u(x))\n",
    "strain_new = diff(u_new, x);\n",
    "\n",
    "% Simplify the new strain expression\n",
    "strain_new_simplified = simplify(strain_new);"
   ]
  },
  {
   "cell_type": "markdown",
   "metadata": {},
   "source": [
    "\n",
    "The new strain field with uniform nodal displacement is:\n"
   ]
  },
  {
   "cell_type": "code",
   "execution_count": 217,
   "metadata": {},
   "outputs": [
    {
     "name": "stdout",
     "output_type": "stream",
     "text": [
      "0\n",
      " \n"
     ]
    }
   ],
   "source": [
    "disp(strain_new_simplified);"
   ]
  },
  {
   "cell_type": "markdown",
   "metadata": {},
   "source": [
    "\n",
    "This is expected because the all the nodes have the same displacement. So the bar is moving the same distane and the length of the bar does not change.\n",
    "\n",
    "\n",
    "### 4.3:\n",
    "### Derive the shape functions for a two\\-node one\\-dimensional element which is $C^1$ continuous. Note that the shape functions derived in Chapter 4 are $C^0$ continuous. To enforce $C^1$ continuity, it is necessary to enforce continuity of displacements and their derivatives. Start by considering a complete cubic approximation $u^e =\\alpha_0^e +\\alpha_1^e x+\\alpha_2^e x^2 +\\alpha_3^e x^3$ and derive four shape functions corresponding to the displacements and their derivatives at each node."
   ]
  },
  {
   "cell_type": "code",
   "execution_count": 218,
   "metadata": {},
   "outputs": [
    {
     "name": "stdout",
     "output_type": "stream",
     "text": [
      "[(- y^3 + 3*x*y^2)/(x^3 - 3*x^2*y + 3*x*y^2 - y^3),      -(x*y^2)/(x^2 - 2*x*y + y^2), -(- x^3 + 3*y*x^2)/(x^3 - 3*x^2*y + 3*x*y^2 - y^3),      -(x^2*y)/(x^2 - 2*x*y + y^2)]\n",
      "[         -(6*x*y)/(x^3 - 3*x^2*y + 3*x*y^2 - y^3), (y^2 + 2*x*y)/(x^2 - 2*x*y + y^2),            (6*x*y)/(x^3 - 3*x^2*y + 3*x*y^2 - y^3), (x^2 + 2*y*x)/(x^2 - 2*x*y + y^2)]\n",
      "[      (3*(x + y))/(x^3 - 3*x^2*y + 3*x*y^2 - y^3),    -(x + 2*y)/(x^2 - 2*x*y + y^2),       -(3*(x + y))/(x^3 - 3*x^2*y + 3*x*y^2 - y^3),    -(2*x + y)/(x^2 - 2*x*y + y^2)]\n",
      "[               -2/(x^3 - 3*x^2*y + 3*x*y^2 - y^3),             1/(x^2 - 2*x*y + y^2),                  2/(x^3 - 3*x^2*y + 3*x*y^2 - y^3),             1/(x^2 - 2*x*y + y^2)]\n",
      " \n"
     ]
    }
   ],
   "source": [
    "syms y\n",
    "\n",
    "% since they asked for a two node linear element I focused mostly on section 4.1\n",
    "% I used the concept from (4.3) for my M matrix\n",
    "\n",
    "M = [1 x x^2 x^3; 0 1 2*x 3*x^2; 1 y y^2 y^3; 0 1 2*y 3*y^2];\n",
    "\n",
    "% I just had MATLAB do the inverse for me instead of using the equation from the book\n",
    "% MATLAB automatically simplified the sigma values. That was kind of cool.\n",
    "M_i = inv(M);\n",
    "disp(M_i)"
   ]
  },
  {
   "cell_type": "code",
   "execution_count": 219,
   "metadata": {},
   "outputs": [
    {
     "name": "stdout",
     "output_type": "stream",
     "text": [
      "[(- y^3 + 3*x*y^2)/(x^3 - 3*x^2*y + 3*x*y^2 - y^3) - (2*x^3)/(x^3 - 3*x^2*y + 3*x*y^2 - y^3) + (3*x^2*(x + y))/(x^3 - 3*x^2*y + 3*x*y^2 - y^3) - (6*x^2*y)/(x^3 - 3*x^2*y + 3*x*y^2 - y^3), x^3/(x^2 - 2*x*y + y^2) + (x*(y^2 + 2*x*y))/(x^2 - 2*x*y + y^2) - (x*y^2)/(x^2 - 2*x*y + y^2) - (x^2*(x + 2*y))/(x^2 - 2*x*y + y^2), (2*x^3)/(x^3 - 3*x^2*y + 3*x*y^2 - y^3) - (- x^3 + 3*y*x^2)/(x^3 - 3*x^2*y + 3*x*y^2 - y^3) - (3*x^2*(x + y))/(x^3 - 3*x^2*y + 3*x*y^2 - y^3) + (6*x^2*y)/(x^3 - 3*x^2*y + 3*x*y^2 - y^3), x^3/(x^2 - 2*x*y + y^2) + (x*(x^2 + 2*y*x))/(x^2 - 2*x*y + y^2) - (x^2*y)/(x^2 - 2*x*y + y^2) - (x^2*(2*x + y))/(x^2 - 2*x*y + y^2)]\n",
      " \n"
     ]
    }
   ],
   "source": [
    "% I am solving for the element shape function N, so I want to use (4.5)\n",
    "% I need p to solve (4.5) so I used (4.2) to set up an equation for p in each node.\n",
    "p1 = M(1,:);\n",
    "\n",
    "p2 = M(2,:);\n",
    "\n",
    "p3 = M(3,:);\n",
    "\n",
    "p4 = M(4,:);\n",
    "\n",
    "% Use (4.5) to get the values N1, N2, N3, N4 for the element shape function\n",
    "\n",
    "N1 = p1 * M_i;\n",
    "\n",
    "N2 = p2 * M_i;\n",
    "N3 = p3 * M_i;\n",
    "\n",
    "N4 = p4 * M_i;\n",
    "\n",
    "disp(N1);"
   ]
  },
  {
   "cell_type": "code",
   "execution_count": 220,
   "metadata": {},
   "outputs": [
    {
     "name": "stdout",
     "output_type": "stream",
     "text": [
      "[(6*x*(x + y))/(x^3 - 3*x^2*y + 3*x*y^2 - y^3) - (6*x^2)/(x^3 - 3*x^2*y + 3*x*y^2 - y^3) - (6*x*y)/(x^3 - 3*x^2*y + 3*x*y^2 - y^3), (y^2 + 2*x*y)/(x^2 - 2*x*y + y^2) + (3*x^2)/(x^2 - 2*x*y + y^2) - (2*x*(x + 2*y))/(x^2 - 2*x*y + y^2), (6*x^2)/(x^3 - 3*x^2*y + 3*x*y^2 - y^3) - (6*x*(x + y))/(x^3 - 3*x^2*y + 3*x*y^2 - y^3) + (6*x*y)/(x^3 - 3*x^2*y + 3*x*y^2 - y^3), (x^2 + 2*y*x)/(x^2 - 2*x*y + y^2) + (3*x^2)/(x^2 - 2*x*y + y^2) - (2*x*(2*x + y))/(x^2 - 2*x*y + y^2)]\n",
      " \n"
     ]
    }
   ],
   "source": [
    "\n",
    "disp(N2);"
   ]
  },
  {
   "cell_type": "code",
   "execution_count": 221,
   "metadata": {},
   "outputs": [
    {
     "name": "stdout",
     "output_type": "stream",
     "text": [
      "[(- y^3 + 3*x*y^2)/(x^3 - 3*x^2*y + 3*x*y^2 - y^3) - (2*y^3)/(x^3 - 3*x^2*y + 3*x*y^2 - y^3) + (3*y^2*(x + y))/(x^3 - 3*x^2*y + 3*x*y^2 - y^3) - (6*x*y^2)/(x^3 - 3*x^2*y + 3*x*y^2 - y^3), y^3/(x^2 - 2*x*y + y^2) + (y*(y^2 + 2*x*y))/(x^2 - 2*x*y + y^2) - (x*y^2)/(x^2 - 2*x*y + y^2) - (y^2*(x + 2*y))/(x^2 - 2*x*y + y^2), (2*y^3)/(x^3 - 3*x^2*y + 3*x*y^2 - y^3) - (- x^3 + 3*y*x^2)/(x^3 - 3*x^2*y + 3*x*y^2 - y^3) - (3*y^2*(x + y))/(x^3 - 3*x^2*y + 3*x*y^2 - y^3) + (6*x*y^2)/(x^3 - 3*x^2*y + 3*x*y^2 - y^3), y^3/(x^2 - 2*x*y + y^2) + (y*(x^2 + 2*y*x))/(x^2 - 2*x*y + y^2) - (x^2*y)/(x^2 - 2*x*y + y^2) - (y^2*(2*x + y))/(x^2 - 2*x*y + y^2)]\n",
      " \n"
     ]
    }
   ],
   "source": [
    "\n",
    "disp(N3);"
   ]
  },
  {
   "cell_type": "code",
   "execution_count": 222,
   "metadata": {},
   "outputs": [
    {
     "name": "stdout",
     "output_type": "stream",
     "text": [
      "[(6*y*(x + y))/(x^3 - 3*x^2*y + 3*x*y^2 - y^3) - (6*y^2)/(x^3 - 3*x^2*y + 3*x*y^2 - y^3) - (6*x*y)/(x^3 - 3*x^2*y + 3*x*y^2 - y^3), (y^2 + 2*x*y)/(x^2 - 2*x*y + y^2) + (3*y^2)/(x^2 - 2*x*y + y^2) - (2*y*(x + 2*y))/(x^2 - 2*x*y + y^2), (6*y^2)/(x^3 - 3*x^2*y + 3*x*y^2 - y^3) - (6*y*(x + y))/(x^3 - 3*x^2*y + 3*x*y^2 - y^3) + (6*x*y)/(x^3 - 3*x^2*y + 3*x*y^2 - y^3), (x^2 + 2*y*x)/(x^2 - 2*x*y + y^2) + (3*y^2)/(x^2 - 2*x*y + y^2) - (2*y*(2*x + y))/(x^2 - 2*x*y + y^2)]\n",
      " \n"
     ]
    }
   ],
   "source": [
    "\n",
    "disp(N4);"
   ]
  },
  {
   "cell_type": "markdown",
   "metadata": {},
   "source": [
    "### 4.4:\n",
    "### Consider the displacement field $u(x) = x^3 ,0\\le x\\le 1$ . Write a MATLAB program that performs the following tasks:\n",
    "#### Part A:\n",
    "#### Subdivide the interval \\[0,1\\] into two elements. Compute the displacement field in each element by letting the nodal displacements be given by $u_1 =x_1^3$ and using a linear two\\-node element so that the displacement field in each element is given by $u^e (x)={{\\textrm{N}}}^{{\\textrm{e}}} (x){{\\textrm{d}}}^{{\\textrm{e}}} ={{\\textrm{N}}}^{{\\textrm{e}}} (x){{\\textrm{L}}}^{{\\textrm{e}}} {\\textrm{d}}$ , where ${{\\textrm{N}}}^{{\\textrm{e}}} (x)$ are the linear shae functions given by (4.6). Plot $u(x)$ and the finite element field $u^e (x)$ on the smae plot in the interval \\[0,1\\]."
   ]
  },
  {
   "cell_type": "code",
   "execution_count": 223,
   "metadata": {},
   "outputs": [
    {
     "name": "stdout",
     "output_type": "stream",
     "text": [
      "\n",
      "u_11 =\n",
      "\n",
      "     0\n",
      "\n"
     ]
    }
   ],
   "source": [
    "% Set up the length of the interval and divide evenly so the two elements\n",
    "% are symmetrical\n",
    "x1 = 0;\n",
    "x3 = 1;\n",
    "x2 = (x1 + x3)/2;  % Midpoint\n",
    "\n",
    "% Nodal displacements (cubic function u(x) = x^3)\n",
    "% Since I am going to use two linear elements to try and map along a cubic this will give me the diplacment values at the nodes for the different elements.\n",
    "\n",
    "u_11 = (x1)^3;  % u at node 1 for element 1\n",
    "u_12 = (x2)^3;  % u at node 2 for element 1\n",
    "u_21 = (x2)^3;  % u at node 1 for element 2\n",
    "u_22 = (x3)^3;  % u at node 2 for element 2\n",
    "\n",
    "% Shape functions for Element 1 (from x1 to x2), again I used the direct construction method\n",
    "\n",
    "syms x\n",
    "\n",
    "N_11 = (x - x2) / (x1 - x2);\n",
    "N_12 = (x - x1) / (x2 - x1);\n",
    "\n",
    "% Displacement field for Element 1\n",
    "u_1 = N_11 * u_11 + N_12 * u_12;\n",
    "\n",
    "% Shape functions for Element 2 (from x2 to x3)\n",
    "N_21 = (x3 - x) / (x3 - x2);\n",
    "N_22 = (x - x2) / (x3 - x2);\n",
    "\n",
    "% Displacement field for Element 2\n",
    "u_2 = N_21 * u_21 + N_22 * u_22;\n",
    "\n",
    "% Check boundary conditions\n",
    "u_11  % Should be 0 at node 1 of element 1"
   ]
  },
  {
   "cell_type": "code",
   "execution_count": 224,
   "metadata": {},
   "outputs": [
    {
     "name": "stdout",
     "output_type": "stream",
     "text": [
      "\n",
      "u_12 =\n",
      "\n",
      "    0.1250\n",
      "\n"
     ]
    }
   ],
   "source": [
    "u_12  % Should match u_21 to ensure continuity between elements"
   ]
  },
  {
   "cell_type": "code",
   "execution_count": 225,
   "metadata": {},
   "outputs": [
    {
     "name": "stdout",
     "output_type": "stream",
     "text": [
      "\n",
      "u_21 =\n",
      "\n",
      "    0.1250\n",
      "\n"
     ]
    }
   ],
   "source": [
    "u_21  % Should match u_12"
   ]
  },
  {
   "cell_type": "code",
   "execution_count": 226,
   "metadata": {},
   "outputs": [
    {
     "name": "stdout",
     "output_type": "stream",
     "text": [
      "\n",
      "u_22 =\n",
      "\n",
      "     1\n",
      "\n"
     ]
    }
   ],
   "source": [
    "u_22  % Should be 1 at node 2 of element 2"
   ]
  },
  {
   "cell_type": "code",
   "execution_count": 227,
   "metadata": {},
   "outputs": [
    {
     "data": {
      "image/png": "[encoded data removed]",
      "text/plain": [
       "<IPython.core.display.Image object>"
      ]
     },
     "metadata": {},
     "output_type": "display_data"
    }
   ],
   "source": [
    "\n",
    "% Define the range of x values for each element\n",
    "% element 1 will go from 0 to 0.5 in incraments of 100\n",
    "% element 2 will go from 0.5 to 1 in incraments of 100\n",
    "% the exact value x^3 will go from 0 to 1 in incraments of 200\n",
    "x_vals_element1 = linspace(0, 0.5, 100);  % For Element 1\n",
    "x_vals_element2 = linspace(0.5, 1, 100);  % For Element 2\n",
    "x_vals_exact = linspace(0, 1, 200);       % For the exact solution over the whole domain\n",
    "\n",
    "% Evaluate displacement fields at the specified x values\n",
    "% sub command is substituting the values from x_vals_element into x for u_1 and u_2. In other words I am evaluating the u_1 and u_2 at each incrament.\n",
    "% the double function is converting the symbolic expressions into a float value to be plotted.\n",
    "\n",
    "u_1_vals = double(subs(u_1, x, x_vals_element1));  % Displacement for element 1\n",
    "u_2_vals = double(subs(u_2, x, x_vals_element2));  % Displacement for element 2\n",
    "\n",
    "% Exact displacement field: u(x) = x^3\n",
    "u_exact_vals = x_vals_exact .^ 3;\n",
    "\n",
    "% Plot the displacement fields\n",
    "figure;\n",
    "hold on;  % Allow multiple plots on the same figure\n",
    "\n",
    "% Plot Element 1\n",
    "plot(x_vals_element1, u_1_vals, 'r', 'LineWidth', 2, 'DisplayName', 'Element 1 (Linear)');\n",
    "% Plot Element 2\n",
    "plot(x_vals_element2, u_2_vals, 'b', 'LineWidth', 2, 'DisplayName', 'Element 2 (Linear)');\n",
    "% Plot the exact displacement field\n",
    "plot(x_vals_exact, u_exact_vals, 'k--', 'LineWidth', 2, 'DisplayName', 'Exact (x^3)');\n",
    "\n",
    "% Add labels and title\n",
    "xlabel('x');\n",
    "ylabel('Displacement u(x)');\n",
    "title('Displacement Fields for Finite Elements and Exact Solution');\n",
    "legend show;  % Show legend\n",
    "grid on;\n",
    "hold off;"
   ]
  },
  {
   "cell_type": "markdown",
   "metadata": {},
   "source": [
    "#### Part B:\n",
    "#### Compute the strain in each element by $\\epsilon^{e}(x) = \\textbf{B}^{e}\\textbf{d}^{e} = \\textbf{B}^{e}(x)\\textbf{L}^{e} \\textbf{d}$ and plot the finite element strain and the exact strain. How do these compare?"
   ]
  },
  {
   "cell_type": "code",
   "execution_count": 228,
   "metadata": {},
   "outputs": [
    {
     "name": "stdout",
     "output_type": "stream",
     "text": [
      "\n",
      "e_1 =\n",
      "\n",
      "    0.2500\n",
      "\n"
     ]
    }
   ],
   "source": [
    "% Compute B^e for elements 1 and 2 using (4.10)\n",
    "B_1 = 2*[-1 1];\n",
    "B_2 = 2*[-1 1];\n",
    "\n",
    "% Set up a matrix for the displacement vector\n",
    "d_1 = [u_11 ; u_12];\n",
    "d_2 = [u_21 ; u_22];\n",
    "\n",
    "% Strain displacement for element 1 and element 2\n",
    "% I referenced (4.9) but pretty much relied on page 81 for this section of the code.\n",
    "\n",
    "e_1 = B_1 * d_1"
   ]
  },
  {
   "cell_type": "code",
   "execution_count": 229,
   "metadata": {},
   "outputs": [
    {
     "name": "stdout",
     "output_type": "stream",
     "text": [
      "\n",
      "e_2 =\n",
      "\n",
      "    1.7500\n",
      "\n"
     ]
    }
   ],
   "source": [
    "e_2 = B_2 * d_2"
   ]
  },
  {
   "cell_type": "code",
   "execution_count": 230,
   "metadata": {},
   "outputs": [
    {
     "data": {
      "image/png": "[encoded data removed]",
      "text/plain": [
       "<IPython.core.display.Image object>"
      ]
     },
     "metadata": {},
     "output_type": "display_data"
    }
   ],
   "source": [
    "% Define the range of x values for each element\n",
    "x_vals_element1 = linspace(0, 0.5, 100);  % For Element 1\n",
    "x_vals_element2 = linspace(0.5, 1, 100);  % For Element 2\n",
    "x_vals_exact = linspace(0, 1, 200);       % For the exact solution over the whole domain\n",
    "\n",
    "% Exact strain: ε(x) = 3x^2\n",
    "exact_strain = 3 * x_vals_exact .^ 2;\n",
    "\n",
    "% Plot the strain fields\n",
    "figure;\n",
    "hold on;  % Allow multiple plots on the same figure\n",
    "\n",
    "% Plot Element 1 strain (constant)\n",
    "plot(x_vals_element1, e_1 * ones(size(x_vals_element1)), 'r', 'LineWidth', 2, 'DisplayName', 'Element 1 Strain (Linear)');\n",
    "% Plot Element 2 strain (constant)\n",
    "plot(x_vals_element2, e_2 * ones(size(x_vals_element2)), 'b', 'LineWidth', 2, 'DisplayName', 'Element 2 Strain (Linear)');\n",
    "% Plot the exact strain\n",
    "plot(x_vals_exact, exact_strain, 'k--', 'LineWidth', 2, 'DisplayName', 'Exact Strain (3x^2)');\n",
    "\n",
    "% Add labels and title\n",
    "xlabel('x');\n",
    "ylabel('Strain \\epsilon(x)');\n",
    "title('Finite Element Strain vs Exact Strain');\n",
    "legend show;  % Show legend\n",
    "grid on;\n",
    "hold off;"
   ]
  },
  {
   "cell_type": "markdown",
   "metadata": {},
   "source": [
    "\n",
    "The strain on the two elements are constant. Which would be expected since the displacement fields that we used are linear equaitons. The derivatives, ie the strain, of a linear equation would then be constant. However the strain of the actual displacement field is quadratic since the field was a cubic function. So the strain is not a very good approximate, but the values are about what I would expect.\n",
    "\n",
    "\n",
    "\n",
    "\n",
    "\n",
    "\n",
    "\n",
    "\n",
    "\n",
    "\n",
    "\n",
    "\n",
    "\n",
    "#### Part C:\n",
    "#### Repeat parts (a) and (b) for meshes of four and eight elements. Does the interpolation of the strain improve?\n",
    "#### Four Elements"
   ]
  },
  {
   "cell_type": "code",
   "execution_count": 231,
   "metadata": {},
   "outputs": [
    {
     "name": "stdout",
     "output_type": "stream",
     "text": [
      "     0\n",
      "\n"
     ]
    }
   ],
   "source": [
    "% Nodes (using global nodal identifications)\n",
    "x1 = 0;\n",
    "x2 = 1/4;\n",
    "x3 = 1/2;\n",
    "x4 = 3/4;\n",
    "x5 = 1;\n",
    "\n",
    "% Nodal displacements (cubic function u(x) = x^3)\n",
    "\n",
    "% Element 1\n",
    "u_11 = (x1)^3;  % u at node 1 for element 1\n",
    "u_12 = (x2)^3;  % u at node 2 for element 1\n",
    "\n",
    "% Shape functions for Element 1 (from x1 to x2)\n",
    "N_11 = (x - x2) / (x1 - x2);\n",
    "N_12 = (x - x1) / (x2 - x1);\n",
    "\n",
    "% Displacement field for Element 1\n",
    "u_1 = N_11 * u_11 + N_12 * u_12;\n",
    "\n",
    "% Element 2\n",
    "u_21 = (x2)^3;  % u at node 1 for element 2\n",
    "u_22 = (x3)^3;  % u at node 2 for element 2\n",
    "\n",
    "% Shape functions for Element 2 (from x2 to x3)\n",
    "N_21 = (x3 - x) / (x3 - x2);\n",
    "N_22 = (x - x2) / (x3 - x2);\n",
    "\n",
    "% Displacement field for Element 2\n",
    "u_2 = N_21 * u_21 + N_22 * u_22;\n",
    "\n",
    "% Element 3\n",
    "u_31 = (x3)^3;\n",
    "u_32 = (x4)^3;\n",
    "\n",
    "% Shape functions for Element 3 (from x2 to x3)\n",
    "N_31 = (x - x4) / (x3 - x4);\n",
    "N_32 = (x - x3) / (x4 - x3);\n",
    "\n",
    "% Displacement field for Element 3\n",
    "u_3 = N_31 * u_31 + N_32 * u_32;\n",
    "\n",
    "% Element 4\n",
    "u_41 = (x4)^3;\n",
    "u_42 = (x5)^3;\n",
    "\n",
    "% Shape functions for Element 4 (from x2 to x3)\n",
    "N_41 = (x - x5) / (x4 - x5);\n",
    "N_42 = (x - x4) / (x5 - x4);\n",
    "\n",
    "% Displacement field for Element 4\n",
    "u_4 = N_41 * u_41 + N_42 * u_42;\n",
    "\n",
    "% Check boundary conditions\n",
    "disp(u_11)  % Should be 0 at node 1 of element 1"
   ]
  },
  {
   "cell_type": "code",
   "execution_count": 232,
   "metadata": {},
   "outputs": [
    {
     "name": "stdout",
     "output_type": "stream",
     "text": [
      "u_12 = 0.016, u_21 = 0.016  % Should be equal\n"
     ]
    }
   ],
   "source": [
    "fprintf('u_12 = %.3f, u_21 = %.3f  %% Should be equal\\n', u_12, u_21);"
   ]
  },
  {
   "cell_type": "code",
   "execution_count": 233,
   "metadata": {},
   "outputs": [
    {
     "name": "stdout",
     "output_type": "stream",
     "text": [
      "u_22 = 0.125, u_31 = 0.125  % Should be equal\n"
     ]
    }
   ],
   "source": [
    "fprintf('u_22 = %.3f, u_31 = %.3f  %% Should be equal\\n', u_22, u_31);"
   ]
  },
  {
   "cell_type": "code",
   "execution_count": 234,
   "metadata": {},
   "outputs": [
    {
     "name": "stdout",
     "output_type": "stream",
     "text": [
      "u_32 = 0.422, u_41 = 0.422  % Should be equal\n"
     ]
    }
   ],
   "source": [
    "fprintf('u_32 = %.3f, u_41 = %.3f  %% Should be equal\\n', u_32, u_41);"
   ]
  },
  {
   "cell_type": "code",
   "execution_count": 235,
   "metadata": {},
   "outputs": [
    {
     "name": "stdout",
     "output_type": "stream",
     "text": [
      "     1\n",
      "\n"
     ]
    }
   ],
   "source": [
    "disp(u_42) % Should be 1 at node 2 of element 2"
   ]
  },
  {
   "cell_type": "code",
   "execution_count": 236,
   "metadata": {},
   "outputs": [
    {
     "data": {
      "image/png": "[encoded data removed]",
      "text/plain": [
       "<IPython.core.display.Image object>"
      ]
     },
     "metadata": {},
     "output_type": "display_data"
    }
   ],
   "source": [
    "\n",
    "% Define the range of x values for each element\n",
    "x_vals_element1 = linspace(x1, x2, 100);  % For Element 1\n",
    "x_vals_element2 = linspace(x2, x3, 100);  % For Element 2\n",
    "x_vals_element3 = linspace(x3, x4, 100);  % For Element 3\n",
    "x_vals_element4 = linspace(x4, x5, 100);  % For Element 4\n",
    "x_vals_exact = linspace(x1, x5, 200);     % For the exact solution over the whole domain\n",
    "\n",
    "% Evaluate displacement fields at the specified x values\n",
    "u_1_vals = double(subs(u_1, x, x_vals_element1));  % Displacement for Element 1\n",
    "u_2_vals = double(subs(u_2, x, x_vals_element2));  % Displacement for Element 2\n",
    "u_3_vals = double(subs(u_3, x, x_vals_element3));  % Displacement for Element 3\n",
    "u_4_vals = double(subs(u_4, x, x_vals_element4));  % Displacement for Element 4\n",
    "\n",
    "% Exact displacement field: u(x) = x^3\n",
    "u_exact_vals = x_vals_exact .^ 3;\n",
    "\n",
    "% Plot the displacement fields\n",
    "figure;\n",
    "hold on;  % Allow multiple plots on the same figure\n",
    "\n",
    "% Plot Element 1\n",
    "plot(x_vals_element1, u_1_vals, 'r', 'LineWidth', 2, 'DisplayName', 'Element 1');\n",
    "% Plot Element 2\n",
    "plot(x_vals_element2, u_2_vals, 'b', 'LineWidth', 2, 'DisplayName', 'Element 2');\n",
    "% Plot Element 3\n",
    "plot(x_vals_element3, u_3_vals, 'g', 'LineWidth', 2, 'DisplayName', 'Element 3');\n",
    "% Plot Element 4\n",
    "plot(x_vals_element4, u_4_vals, 'm', 'LineWidth', 2, 'DisplayName', 'Element 4');\n",
    "% Plot the exact displacement field\n",
    "plot(x_vals_exact, u_exact_vals, 'k--', 'LineWidth', 2, 'DisplayName', 'Exact (x^3)');\n",
    "\n",
    "% Add labels and title\n",
    "xlabel('x');\n",
    "ylabel('Displacement u(x)');\n",
    "title('Displacement Fields for Four Elements and Exact Solution');\n",
    "legend show;  % Show legend\n",
    "grid on;\n",
    "hold off;"
   ]
  },
  {
   "cell_type": "code",
   "execution_count": 237,
   "metadata": {},
   "outputs": [
    {
     "name": "stdout",
     "output_type": "stream",
     "text": [
      "    0.0625\n",
      "\n"
     ]
    }
   ],
   "source": [
    "% Compute B^e for all elements\n",
    "B_1 = 4*[-1 1];\n",
    "B_2 = 4*[-1 1];\n",
    "B_3 = 4*[-1 1];\n",
    "B_4 = 4*[-1 1];\n",
    "\n",
    "% Set up a matrix for the displacement vector\n",
    "d_1 = [u_11 ; u_12];\n",
    "d_2 = [u_21 ; u_22];\n",
    "d_3 = [u_31 ; u_32];\n",
    "d_4 = [u_41 ; u_42];\n",
    "\n",
    "% Strain displacement for element 1 and element 2\n",
    "\n",
    "e_1 = B_1 * d_1;\n",
    "e_2 = B_2 * d_2;\n",
    "e_3 = B_3 * d_3;\n",
    "e_4 = B_4 * d_4;\n",
    "\n",
    "% Display computed strains for all elements\n",
    "disp(e_1);"
   ]
  },
  {
   "cell_type": "code",
   "execution_count": 238,
   "metadata": {},
   "outputs": [
    {
     "name": "stdout",
     "output_type": "stream",
     "text": [
      "    0.4375\n",
      "\n"
     ]
    }
   ],
   "source": [
    "disp(e_2);"
   ]
  },
  {
   "cell_type": "code",
   "execution_count": 239,
   "metadata": {},
   "outputs": [
    {
     "name": "stdout",
     "output_type": "stream",
     "text": [
      "    1.1875\n",
      "\n"
     ]
    }
   ],
   "source": [
    "disp(e_3);"
   ]
  },
  {
   "cell_type": "code",
   "execution_count": 240,
   "metadata": {},
   "outputs": [
    {
     "name": "stdout",
     "output_type": "stream",
     "text": [
      "    2.3125\n",
      "\n"
     ]
    }
   ],
   "source": [
    "disp(e_4);"
   ]
  },
  {
   "cell_type": "code",
   "execution_count": 241,
   "metadata": {},
   "outputs": [
    {
     "data": {
      "image/png": "[encoded data removed]",
      "text/plain": [
       "<IPython.core.display.Image object>"
      ]
     },
     "metadata": {},
     "output_type": "display_data"
    }
   ],
   "source": [
    "\n",
    "% Define the range of x values for each element (renaming to avoid overwriting previous variables)\n",
    "x_vals_strain_element1 = linspace(x1, x2, 100);  % For Element 1\n",
    "x_vals_strain_element2 = linspace(x2, x3, 100);  % For Element 2\n",
    "x_vals_strain_element3 = linspace(x3, x4, 100);  % For Element 3\n",
    "x_vals_strain_element4 = linspace(x4, x5, 100);  % For Element 4\n",
    "x_vals_exact_strain = linspace(x1, x5, 200);     % For the exact solution over the whole domain\n",
    "\n",
    "% Define the strain for each element (constant within each element)\n",
    "strain_element1 = e_1(1);  % Strain in element 1\n",
    "strain_element2 = e_2(1);  % Strain in element 2\n",
    "strain_element3 = e_3(1);  % Strain in element 3\n",
    "strain_element4 = e_4(1);  % Strain in element 4\n",
    "\n",
    "% Plot the strain fields\n",
    "figure;\n",
    "hold on;  % Allow multiple plots on the same figure\n",
    "\n",
    "% Plot Element 1 strain (constant)\n",
    "plot(x_vals_strain_element1, strain_element1 * ones(size(x_vals_strain_element1)), 'r', 'LineWidth', 2, 'DisplayName', 'Element 1 Strain');\n",
    "% Plot Element 2 strain (constant)\n",
    "plot(x_vals_strain_element2, strain_element2 * ones(size(x_vals_strain_element2)), 'b', 'LineWidth', 2, 'DisplayName', 'Element 2 Strain');\n",
    "% Plot Element 3 strain (constant)\n",
    "plot(x_vals_strain_element3, strain_element3 * ones(size(x_vals_strain_element3)), 'g', 'LineWidth', 2, 'DisplayName', 'Element 3 Strain');\n",
    "% Plot Element 4 strain (constant)\n",
    "plot(x_vals_strain_element4, strain_element4 * ones(size(x_vals_strain_element4)), 'm', 'LineWidth', 2, 'DisplayName', 'Element 4 Strain');\n",
    "% Plot the exact strain\n",
    "plot(x_vals_exact_strain, exact_strain, 'k--', 'LineWidth', 2, 'DisplayName', 'Exact Strain (3x^2)');\n",
    "\n",
    "% Add labels and title\n",
    "xlabel('x');\n",
    "ylabel('Strain \\epsilon(x)');\n",
    "title('Finite Element Strain vs Exact Strain');\n",
    "legend show;  % Show legend\n",
    "grid on;\n",
    "hold off;"
   ]
  },
  {
   "cell_type": "markdown",
   "metadata": {},
   "source": [
    "\n",
    "Eight Elements\n"
   ]
  },
  {
   "cell_type": "code",
   "execution_count": 242,
   "metadata": {},
   "outputs": [
    {
     "name": "stdout",
     "output_type": "stream",
     "text": [
      "     0\n",
      "\n"
     ]
    }
   ],
   "source": [
    "% Nodes (using global nodal identifications)\n",
    "x1 = 0;\n",
    "x2 = 1/8;\n",
    "x3 = 1/4;\n",
    "x4 = 3/8;\n",
    "x5 = 1/2;\n",
    "x6 = 5/8;\n",
    "x7 = 3/4;\n",
    "x8 = 7/8;\n",
    "x9 = 1;\n",
    "% Nodal displacements (cubic function u(x) = x^3)\n",
    "\n",
    "% Element 1\n",
    "u_11 = (x1)^3;  % u at node 1 for element 1\n",
    "u_12 = (x2)^3;  % u at node 2 for element 1\n",
    "\n",
    "% Shape functions for Element 1 (from x1 to x2)\n",
    "N_11 = (x - x2) / (x1 - x2);\n",
    "N_12 = (x - x1) / (x2 - x1);\n",
    "\n",
    "% Displacement field for Element 1\n",
    "u_1 = N_11 * u_11 + N_12 * u_12;\n",
    "\n",
    "% Element 2\n",
    "u_21 = (x2)^3;  % u at node 1 for element 2\n",
    "u_22 = (x3)^3;  % u at node 2 for element 2\n",
    "\n",
    "% Shape functions for Element 2 (from x2 to x3)\n",
    "N_21 = (x3 - x) / (x3 - x2);\n",
    "N_22 = (x - x2) / (x3 - x2);\n",
    "\n",
    "% Displacement field for Element 2\n",
    "u_2 = N_21 * u_21 + N_22 * u_22;\n",
    "\n",
    "% Element 3\n",
    "u_31 = (x3)^3;\n",
    "u_32 = (x4)^3;\n",
    "\n",
    "% Shape functions for Element 3 (from x2 to x3)\n",
    "N_31 = (x - x4) / (x3 - x4);\n",
    "N_32 = (x - x3) / (x4 - x3);\n",
    "\n",
    "% Displacement field for Element 3\n",
    "u_3 = N_31 * u_31 + N_32 * u_32;\n",
    "\n",
    "% Element 4\n",
    "u_41 = (x4)^3;\n",
    "u_42 = (x5)^3;\n",
    "\n",
    "% Shape functions for Element 4 (from x2 to x3)\n",
    "N_41 = (x - x5) / (x4 - x5);\n",
    "N_42 = (x - x4) / (x5 - x4);\n",
    "\n",
    "% Displacement field for Element 4\n",
    "u_4 = N_41 * u_41 + N_42 * u_42;\n",
    "\n",
    "% Element 5\n",
    "u_51 = (x5)^3;\n",
    "u_52 = (x6)^3;\n",
    "\n",
    "% Shape functions for Element 5 (from x2 to x3)\n",
    "N_51 = (x - x6) / (x5 - x6);\n",
    "N_52 = (x - x5) / (x6 - x5);\n",
    "\n",
    "% Displacement field for Element 5\n",
    "u_5 = N_51 * u_51 + N_52 * u_52;\n",
    "\n",
    "% Element 6\n",
    "u_61 = (x6)^3;\n",
    "u_62 = (x7)^3;\n",
    "\n",
    "% Shape functions for Element 6 (from x2 to x3)\n",
    "N_61 = (x - x7) / (x6 - x7);\n",
    "N_62 = (x - x6) / (x7 - x6);\n",
    "\n",
    "% Displacement field for Element 6\n",
    "u_6 = N_61 * u_61 + N_62 * u_62;\n",
    "\n",
    "% Element 7\n",
    "u_71 = (x7)^3;\n",
    "u_72 = (x8)^3;\n",
    "\n",
    "% Shape functions for Element 7 (from x2 to x3)\n",
    "N_71 = (x - x8) / (x7 - x8);\n",
    "N_72 = (x - x7) / (x8 - x7);\n",
    "\n",
    "% Displacement field for Element 7\n",
    "u_7 = N_71 * u_71 + N_72 * u_72;\n",
    "\n",
    "% Element 8\n",
    "u_81 = (x8)^3;\n",
    "u_82 = (x9)^3;\n",
    "\n",
    "% Shape functions for Element 8 (from x2 to x3)\n",
    "N_81 = (x - x9) / (x8 - x9);\n",
    "N_82 = (x - x8) / (x9 - x8);\n",
    "\n",
    "% Displacement field for Element 8\n",
    "u_8 = N_81 * u_81 + N_82 * u_82;\n",
    "\n",
    "% Check boundary conditions\n",
    "disp(u_11)  % Should be 0 at node 1 of element 1"
   ]
  },
  {
   "cell_type": "code",
   "execution_count": 243,
   "metadata": {},
   "outputs": [
    {
     "name": "stdout",
     "output_type": "stream",
     "text": [
      "u_12 = 0.002, u_21 = 0.002  % Should be equal\n"
     ]
    }
   ],
   "source": [
    "fprintf('u_12 = %.3f, u_21 = %.3f  %% Should be equal\\n', u_12, u_21);"
   ]
  },
  {
   "cell_type": "code",
   "execution_count": 244,
   "metadata": {},
   "outputs": [
    {
     "name": "stdout",
     "output_type": "stream",
     "text": [
      "u_22 = 0.016, u_31 = 0.016  % Should be equal\n"
     ]
    }
   ],
   "source": [
    "fprintf('u_22 = %.3f, u_31 = %.3f  %% Should be equal\\n', u_22, u_31);"
   ]
  },
  {
   "cell_type": "code",
   "execution_count": 245,
   "metadata": {},
   "outputs": [
    {
     "name": "stdout",
     "output_type": "stream",
     "text": [
      "u_32 = 0.053, u_41 = 0.053  % Should be equal\n"
     ]
    }
   ],
   "source": [
    "fprintf('u_32 = %.3f, u_41 = %.3f  %% Should be equal\\n', u_32, u_41);"
   ]
  },
  {
   "cell_type": "code",
   "execution_count": 246,
   "metadata": {},
   "outputs": [
    {
     "name": "stdout",
     "output_type": "stream",
     "text": [
      "u_42 = 0.125, u_51 = 0.125  % Should be equal\n"
     ]
    }
   ],
   "source": [
    "fprintf('u_42 = %.3f, u_51 = %.3f  %% Should be equal\\n', u_42, u_51);"
   ]
  },
  {
   "cell_type": "code",
   "execution_count": 247,
   "metadata": {},
   "outputs": [
    {
     "name": "stdout",
     "output_type": "stream",
     "text": [
      "u_52 = 0.244, u_61 = 0.244  % Should be equal\n"
     ]
    }
   ],
   "source": [
    "fprintf('u_52 = %.3f, u_61 = %.3f  %% Should be equal\\n', u_52, u_61);"
   ]
  },
  {
   "cell_type": "code",
   "execution_count": 248,
   "metadata": {},
   "outputs": [
    {
     "name": "stdout",
     "output_type": "stream",
     "text": [
      "u_62 = 0.422, u_71 = 0.422  % Should be equal\n"
     ]
    }
   ],
   "source": [
    "fprintf('u_62 = %.3f, u_71 = %.3f  %% Should be equal\\n', u_62, u_71);"
   ]
  },
  {
   "cell_type": "code",
   "execution_count": 249,
   "metadata": {},
   "outputs": [
    {
     "name": "stdout",
     "output_type": "stream",
     "text": [
      "u_72 = 0.670, u_81 = 0.670  % Should be equal\n"
     ]
    }
   ],
   "source": [
    "fprintf('u_72 = %.3f, u_81 = %.3f  %% Should be equal\\n', u_72, u_81);"
   ]
  },
  {
   "cell_type": "code",
   "execution_count": 250,
   "metadata": {},
   "outputs": [
    {
     "name": "stdout",
     "output_type": "stream",
     "text": [
      "     1\n",
      "\n"
     ]
    }
   ],
   "source": [
    "disp(u_82) % Should be 1 at node 2 of element 8"
   ]
  },
  {
   "cell_type": "code",
   "execution_count": 251,
   "metadata": {},
   "outputs": [
    {
     "data": {
      "image/png": "[encoded data removed]",
      "text/plain": [
       "<IPython.core.display.Image object>"
      ]
     },
     "metadata": {},
     "output_type": "display_data"
    }
   ],
   "source": [
    "\n",
    "% Define the range of x values for each element\n",
    "x_vals_element1 = linspace(x1, x2, 100);  % For Element 1\n",
    "x_vals_element2 = linspace(x2, x3, 100);  % For Element 2\n",
    "x_vals_element3 = linspace(x3, x4, 100);  % For Element 3\n",
    "x_vals_element4 = linspace(x4, x5, 100);  % For Element 4\n",
    "x_vals_element5 = linspace(x5, x6, 100);  % For Element 5\n",
    "x_vals_element6 = linspace(x6, x7, 100);  % For Element 6\n",
    "x_vals_element7 = linspace(x7, x8, 100);  % For Element 7\n",
    "x_vals_element8 = linspace(x8, x9, 100);  % For Element 4\n",
    "x_vals_exact = linspace(x1, x9, 200);     % For the exact solution over the whole domain\n",
    "\n",
    "% Evaluate displacement fields at the specified x values\n",
    "u_1_vals = double(subs(u_1, x, x_vals_element1));  % Displacement for Element 1\n",
    "u_2_vals = double(subs(u_2, x, x_vals_element2));  % Displacement for Element 2\n",
    "u_3_vals = double(subs(u_3, x, x_vals_element3));  % Displacement for Element 3\n",
    "u_4_vals = double(subs(u_4, x, x_vals_element4));  % Displacement for Element 4\n",
    "u_5_vals = double(subs(u_5, x, x_vals_element5));  % Displacement for Element 1\n",
    "u_6_vals = double(subs(u_6, x, x_vals_element6));  % Displacement for Element 2\n",
    "u_7_vals = double(subs(u_7, x, x_vals_element7));  % Displacement for Element 3\n",
    "u_8_vals = double(subs(u_8, x, x_vals_element8));  % Displacement for Element 4\n",
    "\n",
    "% Exact displacement field: u(x) = x^3\n",
    "u_exact_vals = x_vals_exact .^ 3;\n",
    "\n",
    "% Plot the displacement fields\n",
    "figure;\n",
    "hold on;  % Allow multiple plots on the same figure\n",
    "\n",
    "% Plot Element 1\n",
    "plot(x_vals_element1, u_1_vals, 'r', 'LineWidth', 2, 'DisplayName', 'Element 1');\n",
    "% Plot Element 2\n",
    "plot(x_vals_element2, u_2_vals, 'b', 'LineWidth', 2, 'DisplayName', 'Element 2');\n",
    "% Plot Element 3\n",
    "plot(x_vals_element3, u_3_vals, 'g', 'LineWidth', 2, 'DisplayName', 'Element 3');\n",
    "% Plot Element 4\n",
    "plot(x_vals_element4, u_4_vals, 'm', 'LineWidth', 2, 'DisplayName', 'Element 4');\n",
    "% Plot Element 5\n",
    "plot(x_vals_element5, u_5_vals, 'c', 'LineWidth', 2, 'DisplayName', 'Element 5');\n",
    "% Plot Element 6\n",
    "plot(x_vals_element6, u_6_vals, 'y', 'LineWidth', 2, 'DisplayName', 'Element 6');\n",
    "% Plot Element 7\n",
    "plot(x_vals_element7, u_7_vals, 'c--', 'LineWidth', 2, 'DisplayName', 'Element 7');\n",
    "% Plot Element 8\n",
    "plot(x_vals_element8, u_8_vals, 'r--','LineWidth', 2, 'DisplayName', 'Element 8');\n",
    "% Plot the exact displacement field\n",
    "plot(x_vals_exact, u_exact_vals, 'k--', 'LineWidth', 2, 'DisplayName', 'Exact (x^3)');\n",
    "\n",
    "% Add labels and title\n",
    "xlabel('x');\n",
    "ylabel('Displacement u(x)');\n",
    "title('Displacement Fields for Four Elements and Exact Solution');\n",
    "legend show;  % Show legend\n",
    "grid on;\n",
    "hold off;"
   ]
  },
  {
   "cell_type": "code",
   "execution_count": 252,
   "metadata": {},
   "outputs": [
    {
     "name": "stdout",
     "output_type": "stream",
     "text": [
      "    0.0156\n",
      "\n"
     ]
    }
   ],
   "source": [
    "% Compute B^e for all elements\n",
    "B_1 = 8*[-1 1];\n",
    "B_2 = 8*[-1 1];\n",
    "B_3 = 8*[-1 1];\n",
    "B_4 = 8*[-1 1];\n",
    "B_5 = 8*[-1 1];\n",
    "B_6 = 8*[-1 1];\n",
    "B_7 = 8*[-1 1];\n",
    "B_8 = 8*[-1 1];\n",
    "\n",
    "% Set up a matrix for the displacement vector\n",
    "d_1 = [u_11 ; u_12];\n",
    "d_2 = [u_21 ; u_22];\n",
    "d_3 = [u_31 ; u_32];\n",
    "d_4 = [u_41 ; u_42];\n",
    "d_5 = [u_51 ; u_52];\n",
    "d_6 = [u_61 ; u_62];\n",
    "d_7 = [u_71 ; u_72];\n",
    "d_8 = [u_81 ; u_82];\n",
    "\n",
    "% Strain displacement for element 1 and element 2\n",
    "\n",
    "e_1 = B_1 * d_1;\n",
    "e_2 = B_2 * d_2;\n",
    "e_3 = B_3 * d_3;\n",
    "e_4 = B_4 * d_4;\n",
    "e_5 = B_5 * d_5;\n",
    "e_6 = B_6 * d_6;\n",
    "e_7 = B_7 * d_7;\n",
    "e_8 = B_8 * d_8;\n",
    "\n",
    "% Display computed strains for all elements\n",
    "disp(e_1);"
   ]
  },
  {
   "cell_type": "code",
   "execution_count": 253,
   "metadata": {},
   "outputs": [
    {
     "name": "stdout",
     "output_type": "stream",
     "text": [
      "    0.1094\n",
      "\n"
     ]
    }
   ],
   "source": [
    "disp(e_2);"
   ]
  },
  {
   "cell_type": "code",
   "execution_count": 254,
   "metadata": {},
   "outputs": [
    {
     "name": "stdout",
     "output_type": "stream",
     "text": [
      "    0.2969\n",
      "\n"
     ]
    }
   ],
   "source": [
    "disp(e_3);"
   ]
  },
  {
   "cell_type": "code",
   "execution_count": 255,
   "metadata": {},
   "outputs": [
    {
     "name": "stdout",
     "output_type": "stream",
     "text": [
      "    0.5781\n",
      "\n"
     ]
    }
   ],
   "source": [
    "disp(e_4);"
   ]
  },
  {
   "cell_type": "code",
   "execution_count": 256,
   "metadata": {},
   "outputs": [
    {
     "name": "stdout",
     "output_type": "stream",
     "text": [
      "    0.9531\n",
      "\n"
     ]
    }
   ],
   "source": [
    "disp(e_5);"
   ]
  },
  {
   "cell_type": "code",
   "execution_count": 257,
   "metadata": {},
   "outputs": [
    {
     "name": "stdout",
     "output_type": "stream",
     "text": [
      "    1.4219\n",
      "\n"
     ]
    }
   ],
   "source": [
    "disp(e_6);"
   ]
  },
  {
   "cell_type": "code",
   "execution_count": 258,
   "metadata": {},
   "outputs": [
    {
     "name": "stdout",
     "output_type": "stream",
     "text": [
      "    1.9844\n",
      "\n"
     ]
    }
   ],
   "source": [
    "disp(e_7);"
   ]
  },
  {
   "cell_type": "code",
   "execution_count": 259,
   "metadata": {},
   "outputs": [
    {
     "name": "stdout",
     "output_type": "stream",
     "text": [
      "    2.6406\n",
      "\n"
     ]
    }
   ],
   "source": [
    "disp(e_8);"
   ]
  },
  {
   "cell_type": "code",
   "execution_count": 260,
   "metadata": {},
   "outputs": [
    {
     "data": {
      "image/png": "[encoded data removed]",
      "text/plain": [
       "<IPython.core.display.Image object>"
      ]
     },
     "metadata": {},
     "output_type": "display_data"
    }
   ],
   "source": [
    "\n",
    "% Define the range of x values for each element (renaming to avoid overwriting previous variables)\n",
    "x_vals_strain_element1 = linspace(x1, x2, 100);  % For Element 1\n",
    "x_vals_strain_element2 = linspace(x2, x3, 100);  % For Element 2\n",
    "x_vals_strain_element3 = linspace(x3, x4, 100);  % For Element 3\n",
    "x_vals_strain_element4 = linspace(x4, x5, 100);  % For Element 4\n",
    "x_vals_strain_element5 = linspace(x5, x6, 100);  % For Element 5\n",
    "x_vals_strain_element6 = linspace(x6, x7, 100);  % For Element 6\n",
    "x_vals_strain_element7 = linspace(x7, x8, 100);  % For Element 7\n",
    "x_vals_strain_element8 = linspace(x8, x9, 100);  % For Element 8\n",
    "x_vals_exact_strain = linspace(x1, x9, 200);     % For the exact solution over the whole domain\n",
    "\n",
    "% Define the strain for each element (constant within each element)\n",
    "strain_element1 = e_1(1);  % Strain in element 1\n",
    "strain_element2 = e_2(1);  % Strain in element 2\n",
    "strain_element3 = e_3(1);  % Strain in element 3\n",
    "strain_element4 = e_4(1);  % Strain in element 4\n",
    "strain_element5 = e_5(1);  % Strain in element 5\n",
    "strain_element6 = e_6(1);  % Strain in element 6\n",
    "strain_element7 = e_7(1);  % Strain in element 7\n",
    "strain_element8 = e_8(1);  % Strain in element 8\n",
    "\n",
    "% Plot the strain fields\n",
    "figure;\n",
    "hold on;  % Allow multiple plots on the same figure\n",
    "\n",
    "% Plot Element 1 strain (constant)\n",
    "plot(x_vals_strain_element1, strain_element1 * ones(size(x_vals_strain_element1)), 'r', 'LineWidth', 2, 'DisplayName', 'Element 1 Strain');\n",
    "% Plot Element 2 strain (constant)\n",
    "plot(x_vals_strain_element2, strain_element2 * ones(size(x_vals_strain_element2)), 'b', 'LineWidth', 2, 'DisplayName', 'Element 2 Strain');\n",
    "% Plot Element 3 strain (constant)\n",
    "plot(x_vals_strain_element3, strain_element3 * ones(size(x_vals_strain_element3)), 'g', 'LineWidth', 2, 'DisplayName', 'Element 3 Strain');\n",
    "% Plot Element 4 strain (constant)\n",
    "plot(x_vals_strain_element4, strain_element4 * ones(size(x_vals_strain_element4)), 'm', 'LineWidth', 2, 'DisplayName', 'Element 4 Strain');\n",
    "% Plot Element 5 strain (constant)\n",
    "plot(x_vals_strain_element5, strain_element5 * ones(size(x_vals_strain_element5)), 'c', 'LineWidth', 2, 'DisplayName', 'Element 5 Strain');\n",
    "% Plot Element 6 strain (constant)\n",
    "plot(x_vals_strain_element6, strain_element6 * ones(size(x_vals_strain_element6)), 'y', 'LineWidth', 2, 'DisplayName', 'Element 6 Strain');\n",
    "% Plot Element 7 strain (constant)\n",
    "plot(x_vals_strain_element7, strain_element7 * ones(size(x_vals_strain_element7)), 'c--', 'LineWidth', 2, 'DisplayName', 'Element 7 Strain');\n",
    "% Plot Element 8 strain (constant)\n",
    "plot(x_vals_strain_element8, strain_element8 * ones(size(x_vals_strain_element8)), 'r--', 'LineWidth', 2, 'DisplayName', 'Element 8 Strain');\n",
    "% Plot the exact strain\n",
    "exact_strain = 3 * x_vals_exact_strain.^2;\n",
    "plot(x_vals_exact_strain, exact_strain, 'k--', 'LineWidth', 2, 'DisplayName', 'Exact Strain (3x^2)');\n",
    "\n",
    "% Add labels and title\n",
    "xlabel('x');\n",
    "ylabel('Strain \\epsilon(x)');\n",
    "title('Finite Element Strain vs Exact Strain');\n",
    "legend show;  % Show legend\n",
    "grid on;\n",
    "hold off;"
   ]
  },
  {
   "cell_type": "markdown",
   "metadata": {},
   "source": [
    "\n",
    "As we increase the elements, we get a better fit for the displacement field. Eight elements follows the actual displacement field equation fairly well. As for the strain, we are still getting constant values, but they trend with the displacement field. So the more elements we use, the mroe accurate the results.\n",
    "\n",
    "#### Part D:\n",
    "#### The error of an interpolation is generally measured by what is called a L2 norm. The error in the L2 norm, which we denote by e, is given by $e=\\int_0^L (u^e -u)^2 \\,dx$ where $~u=x^3$ in this case. Compute the error e for meshes of two, four and eight linear displacement elements. Use Gauss quadrature for integration. Then plot (this can be done manually) the error versus the element size on a log\\-log plot. This should almost be a straight line. What is its slope? This slope is indicative of the rate of convergence of the element.\n"
   ]
  },
  {
   "cell_type": "code",
   "execution_count": 261,
   "metadata": {},
   "outputs": [
    {
     "data": {
      "image/png": "[encoded data removed]",
      "text/plain": [
       "<IPython.core.display.Image object>"
      ]
     },
     "metadata": {},
     "output_type": "display_data"
    }
   ],
   "source": [
    "% Define the exact solution u(x) = x^3 as an anonymous function\n",
    "% @(x): This defines an anonymous function where x is the input variable.\n",
    "% x.^3: This is the function body, which means the output of the function is\n",
    "% x^3 . The .^ operator ensures that this works element-wise (in case x is a vector or matrix).\n",
    "exact_solution = @(x) x.^3;\n",
    "\n",
    "% Define the Gauss quadrature points and weights for a 2-point rule\n",
    "% These were given in the Table in chapter 4\n",
    "gauss_points = [-sqrt(1/3), sqrt(1/3)];  % Gauss points in [-1, 1]\n",
    "gauss_weights = [1, 1];  % Weights for 2-point quadrature\n",
    "\n",
    "% Initialize an array (3x1 matrix) to store the L2 norm error for 2, 4, and 8 elements\n",
    "error_L2 = zeros(3, 1);  % To store errors for each mesh size\n",
    "\n",
    "% Define the mesh sizes\n",
    "mesh_sizes = [2, 4, 8];\n",
    "L = 1;  % Length of the domain is 1 from part a\n",
    "\n",
    "% Loop over each mesh size so that it will run the values for 2, 4, and 8\n",
    "% elements.\n",
    "for mesh_index = 1:length(mesh_sizes)\n",
    "    num_elements = mesh_sizes(mesh_index);  % Get the number of elements\n",
    "    element_length = L / num_elements;  % Compute the length of each element\n",
    "    error_sum = 0;  % Initialize the error sum for this mesh size\n",
    "\n",
    "    % Loop over each element\n",
    "    for elem = 1:num_elements\n",
    "        % Define element boundaries for each element\n",
    "        x1 = (elem - 1) * element_length;  % Left node of element\n",
    "        x2 = elem * element_length;        % Right node of element\n",
    "\n",
    "        % linear shape function for the element\n",
    "        u_h = @(x) ((x2 - x) / element_length) * exact_solution(x1) + ...\n",
    "                   ((x - x1) / element_length) * exact_solution(x2);\n",
    "\n",
    "        % Compute the squared error for each Gauss point\n",
    "        for i = 1:length(gauss_points)\n",
    "            % Map Gauss point to the actual element\n",
    "            xi = ((x2 - x1) / 2) * gauss_points(i) + (x2 + x1) / 2;\n",
    "\n",
    "            % Compute the error at the Gauss point\n",
    "            error_at_gauss_point = (u_h(xi) - exact_solution(xi))^2;\n",
    "\n",
    "            % Sum the contribution of this Gauss point\n",
    "            error_sum = error_sum + gauss_weights(i) * error_at_gauss_point * (x2 - x1) / 2;\n",
    "        end\n",
    "    end\n",
    "\n",
    "    % Store the L2 norm error for this mesh size\n",
    "    error_L2(mesh_index) = sqrt(error_sum);\n",
    "end\n",
    "\n",
    "% Plot the error vs element size (log-log plot)\n",
    "element_sizes = 1 ./ mesh_sizes;  % Element size = 1 / number of elements\n",
    "figure;\n",
    "loglog(element_sizes, error_L2, '-o', 'LineWidth', 2);\n",
    "xlabel('Element Size (h)');\n",
    "ylabel('L2 Norm of Error');\n",
    "title('L2 Norm Error vs Element Size');\n",
    "grid on;"
   ]
  },
  {
   "cell_type": "code",
   "execution_count": 262,
   "metadata": {},
   "outputs": [
    {
     "name": "stdout",
     "output_type": "stream",
     "text": [
      "Slope of the log-log plot (rate of convergence): 1.98\n"
     ]
    }
   ],
   "source": [
    "\n",
    "% Optionally, compute the slope of the log-log plot (convergence rate)\n",
    "p = polyfit(log(element_sizes), log(error_L2), 1);\n",
    "fprintf('Slope of the log-log plot (rate of convergence): %.2f\\n', p(1));"
   ]
  },
  {
   "cell_type": "markdown",
   "metadata": {},
   "source": [
    "#### Part E:\n",
    "#### Repeat part (d) using quadratic two\\-node quadratic elements."
   ]
  },
  {
   "cell_type": "code",
   "execution_count": 263,
   "metadata": {},
   "outputs": [
    {
     "data": {
      "image/png": "[encoded data removed]",
      "text/plain": [
       "<IPython.core.display.Image object>"
      ]
     },
     "metadata": {},
     "output_type": "display_data"
    }
   ],
   "source": [
    "% Define the exact solution u(x) = x^3 as an anonymous function\n",
    "exact_solution = @(x) x.^3;\n",
    "\n",
    "% Define the Gauss quadrature points and weights for a 3-point rule (since we are now using quadratic elements)\n",
    "gauss_points = [-sqrt(3/5), 0, sqrt(3/5)];  % Gauss points in [-1, 1]\n",
    "gauss_weights = [5/9, 8/9, 5/9];  % Weights for 3-point quadrature\n",
    "\n",
    "% Initialize an array to store the L2 norm error for 2, 4, and 8 elements\n",
    "error_L2 = zeros(3, 1);  % To store errors for each mesh size\n",
    "\n",
    "% Define the mesh sizes\n",
    "mesh_sizes = [2, 4, 8];\n",
    "L = 1;  % Length of the domain\n",
    "\n",
    "% Loop over each mesh size\n",
    "for mesh_index = 1:length(mesh_sizes)\n",
    "    num_elements = mesh_sizes(mesh_index);  % Get the number of elements\n",
    "    element_length = L / num_elements;  % Compute the length of each element\n",
    "    error_sum = 0;  % Initialize the error sum for this mesh size\n",
    "\n",
    "    % Loop over each element\n",
    "    for elem = 1:num_elements\n",
    "        % Define element boundaries and mid-point\n",
    "        x1 = (elem - 1) * element_length;  % Left node of element\n",
    "        x3 = elem * element_length;        % Right node of element\n",
    "        x2 = (x1 + x3) / 2;               % Mid-point of element\n",
    "\n",
    "        % Finite element approximation for this element (quadratic shape functions)\n",
    "        N1 = @(x) (x - x2) * (x - x3) / ((x1 - x2) * (x1 - x3));\n",
    "        N2 = @(x) (x - x1) * (x - x3) / ((x2 - x1) * (x2 - x3));\n",
    "        N3 = @(x) (x - x1) * (x - x2) / ((x3 - x1) * (x3 - x2));\n",
    "\n",
    "        % Approximate displacement u^e for the element using the shape functions\n",
    "        u_h = @(x) N1(x) * exact_solution(x1) + N2(x) * exact_solution(x2) + N3(x) * exact_solution(x3);\n",
    "\n",
    "        % Compute the squared error for each Gauss point\n",
    "        for i = 1:length(gauss_points)\n",
    "            % Map Gauss point to the actual element\n",
    "            xi = ((x3 - x1) / 2) * gauss_points(i) + (x3 + x1) / 2;\n",
    "\n",
    "            % Compute the error at the Gauss point\n",
    "            error_at_gauss_point = (u_h(xi) - exact_solution(xi))^2;\n",
    "\n",
    "            % Sum the contribution of this Gauss point\n",
    "            error_sum = error_sum + gauss_weights(i) * error_at_gauss_point * (x3 - x1) / 2;\n",
    "        end\n",
    "    end\n",
    "\n",
    "    % Store the L2 norm error for this mesh size\n",
    "    error_L2(mesh_index) = sqrt(error_sum);\n",
    "end\n",
    "\n",
    "% Plot the error vs element size (log-log plot)\n",
    "element_sizes = 1 ./ mesh_sizes;  % Element size = 1 / number of elements\n",
    "figure;\n",
    "loglog(element_sizes, error_L2, '-o', 'LineWidth', 2);\n",
    "xlabel('Element Size (h)');\n",
    "ylabel('L2 Norm of Error');\n",
    "title('L2 Norm Error vs Element Size (Quadratic Elements)');\n",
    "grid on;"
   ]
  },
  {
   "cell_type": "code",
   "execution_count": 264,
   "metadata": {},
   "outputs": [
    {
     "name": "stdout",
     "output_type": "stream",
     "text": [
      "Slope of the log-log plot (rate of convergence for quadratic elements): 3.00\n"
     ]
    }
   ],
   "source": [
    "\n",
    "% Optionally, compute the slope of the log-log plot (convergence rate)\n",
    "p = polyfit(log(element_sizes), log(error_L2), 1);\n",
    "fprintf('Slope of the log-log plot (rate of convergence for quadratic elements): %.2f\\n', p(1));"
   ]
  },
  {
   "cell_type": "markdown",
   "metadata": {},
   "source": [
    "\n",
    "\n",
    "\n",
    "### Problem 4.6\n",
    "### Use Gauss quadrature to obtain exact values for the following integrals. Verify by analytical integration:\n",
    "#### a.) $\\int_0^4 (x^2 +1)\\,dx$"
   ]
  },
  {
   "cell_type": "code",
   "execution_count": 265,
   "metadata": {},
   "outputs": [
    {
     "name": "stdout",
     "output_type": "stream",
     "text": [
      "Gauss quadrature approximation of integral from 0 to 4 of (x^2 + 1) dx: 25.333333\n"
     ]
    }
   ],
   "source": [
    "% Define the function to integrate f(x) = x^2 + 1\n",
    "f = @(x) x.^2 + 1;\n",
    "\n",
    "% Define the Gauss points and weights for the interval [-1, 1]\n",
    "gauss_points = [-sqrt(1/3), sqrt(1/3)];\n",
    "gauss_weights = [1, 1];\n",
    "\n",
    "% Define the transformation from [-1, 1] to [0, 4]\n",
    "a = 0;\n",
    "b = 4;\n",
    "transformation = @(xi) (b - a) / 2 * xi + (b + a) / 2;\n",
    "jacobian = (b - a) / 2;\n",
    "\n",
    "% Compute the Gauss quadrature approximation\n",
    "integral_gauss = 0;\n",
    "for i = 1:length(gauss_points)\n",
    "    xi = gauss_points(i);\n",
    "    integral_gauss = integral_gauss + gauss_weights(i) * f(transformation(xi)) * jacobian;\n",
    "end\n",
    "\n",
    "% Display the result\n",
    "fprintf('Gauss quadrature approximation of integral from 0 to 4 of (x^2 + 1) dx: %.6f\\n', integral_gauss);"
   ]
  },
  {
   "cell_type": "code",
   "execution_count": 266,
   "metadata": {},
   "outputs": [
    {
     "name": "stdout",
     "output_type": "stream",
     "text": [
      "Analytical solution: 25.333333\n"
     ]
    }
   ],
   "source": [
    "\n",
    "% Compute the analytical solution\n",
    "analytical_solution = integral(@(x) x.^2 + 1, 0, 4);\n",
    "fprintf('Analytical solution: %.6f\\n', analytical_solution);"
   ]
  },
  {
   "cell_type": "markdown",
   "metadata": {},
   "source": [
    "\n",
    "\n",
    "#### b.) $\\int_{-1}^1 (\\xi^4 +2\\xi^2 )\\,dx$"
   ]
  },
  {
   "cell_type": "code",
   "execution_count": 267,
   "metadata": {},
   "outputs": [
    {
     "name": "stdout",
     "output_type": "stream",
     "text": [
      "Gauss quadrature approximation of integral from -1 to 1 of (xi^4 + 2xi^2) dxi: 1.555556\n"
     ]
    }
   ],
   "source": [
    "% Define the function to integrate f(xi) = xi^4 + 2xi^2\n",
    "f = @(xi) xi.^4 + 2*xi.^2;\n",
    "\n",
    "% Gauss quadrature for [-1, 1] (already in the interval)\n",
    "integral_gauss = 0;\n",
    "for i = 1:length(gauss_points)\n",
    "    xi = gauss_points(i);\n",
    "    integral_gauss = integral_gauss + gauss_weights(i) * f(xi);\n",
    "end\n",
    "\n",
    "% Display the result\n",
    "fprintf('Gauss quadrature approximation of integral from -1 to 1 of (xi^4 + 2xi^2) dxi: %.6f\\n', integral_gauss);"
   ]
  },
  {
   "cell_type": "code",
   "execution_count": 268,
   "metadata": {},
   "outputs": [
    {
     "name": "stdout",
     "output_type": "stream",
     "text": [
      "Analytical solution: 1.733333\n"
     ]
    }
   ],
   "source": [
    "\n",
    "% Compute the analytical solution\n",
    "analytical_solution = integral(@(xi) xi.^4 + 2*xi.^2, -1, 1);\n",
    "fprintf('Analytical solution: %.6f\\n', analytical_solution);"
   ]
  },
  {
   "cell_type": "markdown",
   "metadata": {},
   "source": [
    "\n",
    "\n",
    "\n",
    "\n",
    "\n",
    "\n",
    "\n",
    "\n",
    "\n",
    "\n",
    "\n",
    "\n",
    "\n",
    "\n",
    "\n",
    "\n",
    "\n",
    "\n",
    "\n",
    "\n",
    "\n",
    "\n",
    "\n",
    "\n",
    "\n",
    "\n",
    "\n",
    "\n",
    "\n",
    "\n",
    "\n",
    "\n",
    "\n",
    "\n",
    "!!!EndOutputRegion!!!"
   ]
  }
 ],
 "metadata": {
  "kernelspec": {
   "display_name": "Matlab",
   "language": "matlab",
   "name": "matlab"
  },
  "language_info": {
   "codemirror_mode": "octave",
   "file_extension": ".m",
   "help_links": [
    {
     "text": "MetaKernel Magics",
     "url": "https://metakernel.readthedocs.io/en/latest/source/README.html"
    }
   ],
   "mimetype": "text/x-octave",
   "name": "matlab",
   "version": "0.17.1"
  }
 },
 "nbformat": 4,
 "nbformat_minor": 4
}

{
 "cells": [
  {
   "cell_type": "markdown",
   "metadata": {},
   "source": [
    "<p align =\"center\">\n",
    "AME 5763\n",
    "</p>\n",
    "<p align =\"center\">\n",
    "Homework 5\n",
    "</p>\n",
    "<p align=\"center\">\n",
    "Blake T Johnson\n",
    "</p>\n",
    "<p align=\"center\">\n",
    "November 13, 2024\n",
    "</p>"
   ]
  },
  {
   "cell_type": "code",
   "execution_count": 3199,
   "metadata": {},
   "outputs": [],
   "source": [
    "import numpy as np\n",
    "from scipy.integrate import odeint\n",
    "import matplotlib.pyplot as plt\n",
    "from scipy.integrate import solve_ivp\n",
    "from mpl_toolkits.mplot3d import Axes3D\n",
    "import sympy as sp\n",
    "from IPython.core.display import HTML\n",
    "from sympy import Matrix\n",
    "import matplotlib.tri as tri\n",
    "\n",
    "import sys\n",
    "\n",
    "sys.path.append('/Users/blakejohnson/Documents/Fall 2024/Finite Elements')\n",
    "from finite_element_equations import *\n",
    "sys.path.append('/Users/blakejohnson/Documents/Fall 2024/Finite Elements')\n",
    "from finite_elements import *\n"
   ]
  },
  {
   "cell_type": "markdown",
   "metadata": {},
   "source": [
    "# Note:\n",
    "When I first computed the homeowrk, I tried to apply the equations from the book and force the code. I was fairly confused in several of the areas, and my cartesean coordinates and parent coordinates were not lining up. During Wednesdays class, I feel like everything suddenly clicked for me and started to make sense. So I went back to update and clean up the homework.\n",
    "\n",
    "While doing that I also tried to create functions that could be called up to run at any time so that I do not have to rewrite the equations every time. But this caused a lot of problems in my code. Unfortunately I did not have enough time to finish trouble shooting the functions before the homework became due. In order to fix this, I \"forced\" the equaitons in several areas, especially in 9.5. For instance the K matrix had too many rows and columns to be able to multiply with other matrices and kept giving me errors. But the function worked in prevous problems. So I just rewrote the K matrix when calculating B instead of using the K value from the function.\n",
    "\n",
    "I also got copilot up and running and learned about sp.pprint, so I had some fun with that part of the code. I am hoping this makes it easier to read the results. Overall, I think the results are reasonable. However the code may be messy because of these reasons."
   ]
  },
  {
   "cell_type": "markdown",
   "metadata": {},
   "source": [
    "# Problem 8.1\n",
    "Consider a problem on a rectangular $ (2 m \\times 1 m)$ domain as shown in Figure 8.18. The conductivity is $k = 4 W^{\\circ} C^{-1}$. $T = 10^{\\circ} C$ is prescribed along the edge CD. Edges AB and AD are insulated, i.e. $\\bar{q} = 0 W m^{-1}$ ; along the edge DC, the boundary flux is $\\bar{q} = 30 W m^{-1}$ . A constant heat source is given: $s = 50 Wm^{-2}$.\n",
    "Find the nodal temperature and nodal fluxes; evaluate the element matrices by Gauss quadrature. Use a single rectangular finite element with node numbering shown in Figure 8.19 so that the local and global node numberings coincide."
   ]
  },
  {
   "cell_type": "markdown",
   "metadata": {},
   "source": [
    "![figure_1](figure_1.png)\n"
   ]
  },
  {
   "cell_type": "markdown",
   "metadata": {},
   "source": [
    "![Image Description](figure_2.png)\n"
   ]
  },
  {
   "cell_type": "markdown",
   "metadata": {},
   "source": [
    "Note: The text of the problem states that T = 10 is prescribed along CD. However the image in the figure shows T = 10 appears to be along BC. It also says that $\\bar{q} = 30$ is along DC. This makes me think that there is a typo and that T = 10 is along BC, so I calculated the values based on the parameters of the image, not the text."
   ]
  },
  {
   "cell_type": "code",
   "execution_count": 3200,
   "metadata": {},
   "outputs": [],
   "source": [
    "'''\n",
    "Set up our given variables\n",
    "'''\n",
    "\n",
    "k = 4\n",
    "T = 10\n",
    "q_0 = 0\n",
    "q_1 = 30  # Flux value at the boundary\n",
    "s = 50"
   ]
  },
  {
   "cell_type": "code",
   "execution_count": 3201,
   "metadata": {},
   "outputs": [
    {
     "name": "stdout",
     "output_type": "stream",
     "text": [
      "Matrix([[2, 0], [2, 1], [0, 1], [0, 0]])\n"
     ]
    }
   ],
   "source": [
    "'''\n",
    "Step 1: The Element Matrix\n",
    "'''\n",
    "# I set up the element matrix based on the nodal positions. Node 1 is at point b and the nodes\n",
    "# continue counter clockwise. Therefore node 1 is at (2,0), node 2 is at (2,1), node 3 is at (0,1), and node 4 is at (0,0)\n",
    "\n",
    "E = sp.Matrix([[2, 0], [2, 1], [0, 1], [0, 0]])\n",
    "print(E)"
   ]
  },
  {
   "cell_type": "code",
   "execution_count": 3202,
   "metadata": {},
   "outputs": [
    {
     "name": "stdout",
     "output_type": "stream",
     "text": [
      "Matrix([[0.25*n - 0.25, 0.25 - 0.25*n, 0.25*n + 0.25, -0.25*n - 0.25], [0.25*x - 0.25, -0.25*x - 0.25, 0.25*x + 0.25, 0.25 - 0.25*x]])\n"
     ]
    }
   ],
   "source": [
    "'''\n",
    "Step 2: The Gradient\n",
    "'''\n",
    "# I set up x and n for xi and eta respectively\n",
    "x, n = sp.symbols('x n')\n",
    "\n",
    "# The gradient is the partial derivative of the shape functions with respect to x and n\n",
    "GN = (1/4) * sp.Matrix([[n-1, 1-n, 1+n, -n-1], [x-1, -x-1, 1+x, 1-x]])\n",
    "print(GN)"
   ]
  },
  {
   "cell_type": "code",
   "execution_count": 3203,
   "metadata": {},
   "outputs": [
    {
     "name": "stdout",
     "output_type": "stream",
     "text": [
      "Matrix([[0, 0.500000000000000], [-1.00000000000000, 0]])\n"
     ]
    }
   ],
   "source": [
    "'''\n",
    "Step 3: The Jacobian\n",
    "'''\n",
    "# Multiply G and E to get the Jacobian\n",
    "J = GN * E\n",
    "print(J)"
   ]
  },
  {
   "cell_type": "code",
   "execution_count": 3204,
   "metadata": {},
   "outputs": [
    {
     "name": "stdout",
     "output_type": "stream",
     "text": [
      "0.500000000000000\n",
      "Matrix([[0, -1.00000000000000], [2.00000000000000, 0]])\n"
     ]
    }
   ],
   "source": [
    "'''\n",
    "Step 4: Determinant and inverse of the Jacobian\n",
    "'''\n",
    "# I calculated the determinant of the Jacobian\n",
    "det_J = J.det()\n",
    "\n",
    "# I calculated the inverse of the Jacobian\n",
    "J_inv = J.inv()\n",
    "\n",
    "print(det_J)\n",
    "print(J_inv)\n",
    "\n",
    "\n"
   ]
  },
  {
   "cell_type": "code",
   "execution_count": 3205,
   "metadata": {},
   "outputs": [
    {
     "name": "stdout",
     "output_type": "stream",
     "text": [
      "\n",
      "Shape Functions (N):\n",
      "⎡(0.25 - 0.25⋅ξ)⋅(1 - η)⎤\n",
      "⎢                       ⎥\n",
      "⎢(1 - η)⋅(0.25⋅ξ + 0.25)⎥\n",
      "⎢                       ⎥\n",
      "⎢(η + 1)⋅(0.25⋅ξ + 0.25)⎥\n",
      "⎢                       ⎥\n",
      "⎣(0.25 - 0.25⋅ξ)⋅(η + 1)⎦\n",
      "Matrix([[(0.25 - 0.25*xi)*(1 - eta)], [(1 - eta)*(0.25*xi + 0.25)], [(eta + 1)*(0.25*xi + 0.25)], [(0.25 - 0.25*xi)*(eta + 1)]])\n",
      "Matrix([[(0.25 - 0.25*xi)*(1 - eta)], [(1 - eta)*(0.25*xi + 0.25)], [(eta + 1)*(0.25*xi + 0.25)], [(0.25 - 0.25*xi)*(eta + 1)]])\n"
     ]
    }
   ],
   "source": [
    "\n",
    "N = shape_functions(\"quad\", 4)\n",
    "print(N)\n",
    "\n",
    "N_num = N.subs(n,1)\n",
    "print(N_num)\n"
   ]
  },
  {
   "cell_type": "code",
   "execution_count": 3206,
   "metadata": {},
   "outputs": [
    {
     "name": "stdout",
     "output_type": "stream",
     "text": [
      "\n",
      "The derivative of the shape functions is:\n",
      "⎡0.25 - 0.25⋅x  0.25⋅x + 0.25  -0.25⋅x - 0.25  0.25⋅x - 0.25⎤\n",
      "⎢                                                           ⎥\n",
      "⎣ 0.5⋅n - 0.5    0.5 - 0.5⋅n    0.5⋅n + 0.5    -0.5⋅n - 0.5 ⎦\n",
      "\n",
      "\n",
      "The transpose of the derivative of the shape functions is:\n",
      "⎡0.25 - 0.25⋅x   0.5⋅n - 0.5 ⎤\n",
      "⎢                            ⎥\n",
      "⎢0.25⋅x + 0.25   0.5 - 0.5⋅n ⎥\n",
      "⎢                            ⎥\n",
      "⎢-0.25⋅x - 0.25  0.5⋅n + 0.5 ⎥\n",
      "⎢                            ⎥\n",
      "⎣0.25⋅x - 0.25   -0.5⋅n - 0.5⎦\n"
     ]
    }
   ],
   "source": [
    "'''\n",
    "Step 5: Derivatives of the Shape Functions (B)\n",
    "'''\n",
    "# To get the derivative of the Shape Function (B) multiply the inverse with Gradient\n",
    "B = J_inv * GN\n",
    "print(\"\\nThe derivative of the shape functions is:\")\n",
    "sp.pprint(B)\n",
    "\n",
    "print(\"\\n\\nThe transpose of the derivative of the shape functions is:\")\n",
    "sp.pprint(B.T)\n"
   ]
  },
  {
   "cell_type": "code",
   "execution_count": 3207,
   "metadata": {},
   "outputs": [
    {
     "name": "stdout",
     "output_type": "stream",
     "text": [
      "\n",
      "Conduction Matrix K:\n",
      "⎡3.33333333333333   -2.33333333333333  -1.66666666666667  0.666666666666667⎤\n",
      "⎢                                                                          ⎥\n",
      "⎢-2.33333333333333  3.33333333333333   0.666666666666667  -1.66666666666667⎥\n",
      "⎢                                                                          ⎥\n",
      "⎢-1.66666666666667  0.666666666666667  3.33333333333333   -2.33333333333333⎥\n",
      "⎢                                                                          ⎥\n",
      "⎣0.666666666666667  -1.66666666666667  -2.33333333333333  3.33333333333333 ⎦\n"
     ]
    }
   ],
   "source": [
    "'''\n",
    "Step 6: The Conduction Matrix\n",
    "'''\n",
    "\n",
    "K = k*sp.integrate(B.T * B * det_J, (x, -1, 1), (n, -1, 1))\n",
    "print(\"\\nConduction Matrix K:\")\n",
    "sp.pprint(K)"
   ]
  },
  {
   "cell_type": "code",
   "execution_count": 3208,
   "metadata": {},
   "outputs": [
    {
     "name": "stdout",
     "output_type": "stream",
     "text": [
      "\n",
      "Source Matrix f_Omega:\n",
      "Matrix([[25.0000000000000, 25.0000000000000, 25.0000000000000, 25.0000000000000]])\n"
     ]
    }
   ],
   "source": [
    "'''\n",
    "Step 7: The Source Matrix\n",
    "'''\n",
    "\n",
    "# I have not created an element matrix yet, so I am defining the shape functions here\n",
    "N_1 = (1/4) * (1-x) * (1-n)\n",
    "N_2 = (1/4) * (1+x) * (1-n)\n",
    "N_3 = (1/4) * (1+x) * (1+n)\n",
    "N_4 = (1/4) * (1-x) * (1+n)\n",
    "\n",
    "# Now I put the shape functions into a matrix\n",
    "N = sp.Matrix([N_1, N_2, N_3, N_4])\n",
    "\n",
    "# Now I can calculate the source matrix\n",
    "f_Omega = sp.integrate(s * N.T * det_J, (x, -1, 1), (n, -1, 1))\n",
    "\n",
    "print(\"\\nSource Matrix f_Omega:\")\n",
    "print(f_Omega)"
   ]
  },
  {
   "cell_type": "code",
   "execution_count": 3209,
   "metadata": {},
   "outputs": [
    {
     "name": "stdout",
     "output_type": "stream",
     "text": [
      "\n",
      "Boundary Flux Matrix f_gamma:\n",
      "Matrix([[0, 0, -30.0000000000000, -30.0000000000000]])\n"
     ]
    }
   ],
   "source": [
    "'''\n",
    "Step 8: The Boundary Flux Matrix (f_gamma)\n",
    "'''\n",
    "# The problem states that the flux is 0 along AB and AD\n",
    "# However the flux is 30 along DC. DC is in the n direction along the edge n=1\n",
    "# I set n = 1 which is now a constant and can integrate along x next.\n",
    "N_boundary = N.subs(n, 1)\n",
    "\n",
    "# Integrate along x from -1 to 1\n",
    "f_gamma = - sp.integrate(q_1 * N_boundary.T, (x, -1, 1))  # q_1 = 30\n",
    "\n",
    "\n",
    "print(\"\\nBoundary Flux Matrix f_gamma:\")\n",
    "print(f_gamma)"
   ]
  },
  {
   "cell_type": "code",
   "execution_count": 3210,
   "metadata": {},
   "outputs": [
    {
     "name": "stdout",
     "output_type": "stream",
     "text": [
      "\n",
      "RHS Matrix (Column Vector):\n",
      "Matrix([[25.0000000000000], [25.0000000000000], [-5.00000000000000], [-5.00000000000000]])\n"
     ]
    }
   ],
   "source": [
    "'''\n",
    "Step 9: RHS Matrix\n",
    "'''\n",
    "# The right hand side can be calculated with f_Omega + f_gamma + R\n",
    "# R is the reaction term which is 0 in this case so I neglected it\n",
    "RHS = f_Omega + f_gamma\n",
    "\n",
    "# Convert RHS to a column vector by transposing\n",
    "RHS = RHS.T\n",
    "\n",
    "# Print the RHS Matrix for verification\n",
    "print(\"\\nRHS Matrix (Column Vector):\")\n",
    "print(RHS)"
   ]
  },
  {
   "cell_type": "code",
   "execution_count": 3211,
   "metadata": {},
   "outputs": [
    {
     "name": "stdout",
     "output_type": "stream",
     "text": [
      "\n",
      "Modified Stiffness Matrix K:\n",
      "⎡        1                  0                  0                  0        ⎤\n",
      "⎢                                                                          ⎥\n",
      "⎢        0                  1                  0                  0        ⎥\n",
      "⎢                                                                          ⎥\n",
      "⎢-6.66666666666667  2.66666666666667   13.3333333333333   -9.33333333333333⎥\n",
      "⎢                                                                          ⎥\n",
      "⎣2.66666666666667   -6.66666666666667  -9.33333333333333  13.3333333333333 ⎦\n",
      "\n",
      "Modified RHS Vector:\n",
      "⎡ 10 ⎤\n",
      "⎢    ⎥\n",
      "⎢ 10 ⎥\n",
      "⎢    ⎥\n",
      "⎢-5.0⎥\n",
      "⎢    ⎥\n",
      "⎣-5.0⎦\n"
     ]
    }
   ],
   "source": [
    "'''\n",
    "Step 10: Assemble the Global Stiffness Matrix and Apply Boundary Conditions\n",
    "'''\n",
    "\n",
    "# The element stiffness matrix represents how heat travels through the element\n",
    "# The shape function and determinant of the Jacobian are used to calculate the element stiffness matrix\n",
    "# This gives us the way the heat travels through the element due to the shape of the element\n",
    "# But we also need to consider the material of the element which is represented by the conductivity matrix\n",
    "# The conductivity matrix is multiplied by the element stiffness matrix to get the element matrix\n",
    "\n",
    "K_global = k * K\n",
    "\n",
    "# Convert the stiffness matrix and source terms to numeric\n",
    "K_global_numeric = sp.Matrix(K_global)\n",
    "f_Omega_numeric = sp.Matrix(f_Omega)\n",
    "f_gamma_numeric = sp.Matrix(f_gamma)\n",
    "\n",
    "# I know the T boundary condition at nodes 1 and 2 (T1 = T2 = 10°C)\n",
    "# I want to set those values for Nodes 1 and 2\n",
    "# Convert the matrices to lists for modification\n",
    "\n",
    "K_modified = K_global_numeric.tolist()\n",
    "RHS_modified = RHS.tolist()\n",
    "\n",
    "# Nodes 1 and 2 correspond to indices 0 and 1 in the Python list (0-based index)\n",
    "node_1_index = 0\n",
    "node_2_index = 1\n",
    "\n",
    "# I need to modify the stiffness matrix and RHS vector to account for the boundary conditions\n",
    "\n",
    "# Set row 0 of K to zero and set diagonal to 1 (Node 1)\n",
    "K_modified[node_1_index] = [0] * len(K_modified)\n",
    "K_modified[node_1_index][node_1_index] = 1\n",
    "# Set corresponding RHS value to prescribed temperature (10°C)\n",
    "RHS_modified[node_1_index] = [10]\n",
    "\n",
    "# Set row 1 of K to zero and set diagonal to 1 (Node 2)\n",
    "K_modified[node_2_index] = [0] * len(K_modified)\n",
    "K_modified[node_2_index][node_2_index] = 1\n",
    "# Set corresponding RHS value to prescribed temperature (10°C)\n",
    "RHS_modified[node_2_index] = [10]\n",
    "\n",
    "# Convert back to sympy Matrix for solving\n",
    "K_modified_matrix = sp.Matrix(K_modified)\n",
    "RHS_modified_matrix = sp.Matrix(RHS_modified)\n",
    "\n",
    "print(\"\\nModified Stiffness Matrix K:\")\n",
    "sp.pprint(K_modified_matrix)\n",
    "\n",
    "print(\"\\nModified RHS Vector:\")\n",
    "sp.pprint(RHS_modified_matrix)"
   ]
  },
  {
   "cell_type": "code",
   "execution_count": 3212,
   "metadata": {},
   "outputs": [
    {
     "name": "stdout",
     "output_type": "stream",
     "text": [
      "\n",
      "Nodal Temperatures:\n",
      "⎡ 10 ⎤\n",
      "⎢    ⎥\n",
      "⎢ 10 ⎥\n",
      "⎢    ⎥\n",
      "⎢8.75⎥\n",
      "⎢    ⎥\n",
      "⎣8.75⎦\n"
     ]
    }
   ],
   "source": [
    "'''\n",
    "Step 14: Solve for Nodal Temperatures\n",
    "'''\n",
    "\n",
    "# Solve the matrix equation to get the nodal temperatures\n",
    "# I know that node 1 and 2 are 10°C so I can solve for the other nodes\n",
    "nodal_temperatures = K_modified_matrix.LUsolve(RHS_modified_matrix)\n",
    "print(\"\\nNodal Temperatures:\")\n",
    "sp.pprint(nodal_temperatures)"
   ]
  },
  {
   "cell_type": "code",
   "execution_count": 3213,
   "metadata": {},
   "outputs": [
    {
     "name": "stdout",
     "output_type": "stream",
     "text": [
      "\n",
      "Nodal Fluxes:\n",
      "⎡-20.0⎤\n",
      "⎢     ⎥\n",
      "⎢-20.0⎥\n",
      "⎢     ⎥\n",
      "⎢  0  ⎥\n",
      "⎢     ⎥\n",
      "⎣  0  ⎦\n"
     ]
    }
   ],
   "source": [
    "'''\n",
    "Step 15: Calculate Nodal Fluxes\n",
    "'''\n",
    "# The nodal fluxes can be determined by multiplying the original K matrix by the nodal temperatures\n",
    "nodal_fluxes = K_global_numeric * nodal_temperatures - RHS\n",
    "print(\"\\nNodal Fluxes:\")\n",
    "sp.pprint(nodal_fluxes)"
   ]
  },
  {
   "cell_type": "markdown",
   "metadata": {},
   "source": [
    "# Problem 8.3\n",
    "A finite element mesh consisting of a rectangular and a triangular element is shown in Figure 8.21. The dimensions of the plate are in meters. A constant temperature$ $T = 10^\\circ $, C  is prescribed along the boundary $ y = 0 $. A constant and linear boundary flux, as shown in Figure 8.21, is applied along the edges $ y = x + 2 $ and $ x = 0 $, respectively. The edge $ x = 2 $ is insulated. A point source $ P = 10 \\, W $ is applied at $ (0, 2) \\, m $. The material is isotropic with $ k = 1 , W/^\\circ C $ for element 1 and $k = 2 \\, W/^\\circ C \\$ for element 2. Compute the nodal temperatures and fluxes at the center points of the two elements.\n"
   ]
  },
  {
   "cell_type": "markdown",
   "metadata": {},
   "source": [
    "![figure_3](figure_3.png)"
   ]
  },
  {
   "cell_type": "code",
   "execution_count": 3214,
   "metadata": {},
   "outputs": [
    {
     "data": {
      "text/plain": [
       "'\\nCalculate Element 1 (Rectangular Element) Stiffness Matrix\\n'"
      ]
     },
     "execution_count": 3214,
     "metadata": {},
     "output_type": "execute_result"
    }
   ],
   "source": [
    "'''\n",
    "Calculate Element 1 (Rectangular Element) Stiffness Matrix\n",
    "'''"
   ]
  },
  {
   "cell_type": "code",
   "execution_count": 3215,
   "metadata": {},
   "outputs": [],
   "source": [
    "'''\n",
    "Step 1: The Element Matrix\n",
    "'''\n",
    "\n",
    "# Define coordinates of each node in the element\n",
    "E1 = sp.Matrix([[0, 0],  # Node 1\n",
    "                [2, 0],  # Node 2\n",
    "                [2, 2],  # Node 3\n",
    "                [0, 2]]) # Node 5\n"
   ]
  },
  {
   "cell_type": "code",
   "execution_count": 3216,
   "metadata": {},
   "outputs": [],
   "source": [
    "'''\n",
    "Step 2: Find the Shape Functions\n",
    "'''\n",
    "# I decided to set up the shape funcitons first this time. I skipped that step in 8.1 and had to go back\n",
    "\n",
    "# Define natural coordinates (xi, eta)\n",
    "xi, eta = sp.symbols('xi eta')\n",
    "\n",
    "# Define shape functions for a four-node rectangular element\n",
    "N1 = (1/4) * (1 - xi) * (1 - eta)\n",
    "N2 = (1/4) * (1 + xi) * (1 - eta)\n",
    "N3 = (1/4) * (1 + xi) * (1 + eta)\n",
    "N4 = (1/4) * (1 - xi) * (1 + eta)\n",
    "\n",
    "# Collect shape functions into a matrix\n",
    "N = sp.Matrix([N1, N2, N3, N4])"
   ]
  },
  {
   "cell_type": "code",
   "execution_count": 3217,
   "metadata": {},
   "outputs": [
    {
     "name": "stdout",
     "output_type": "stream",
     "text": [
      "\n",
      "Gradient Matrix G:\n",
      "⎡0.25⋅η - 0.25  0.25 - 0.25⋅η   0.25⋅η + 0.25  -0.25⋅η - 0.25⎤\n",
      "⎢                                                            ⎥\n",
      "⎣0.25⋅ξ - 0.25  -0.25⋅ξ - 0.25  0.25⋅ξ + 0.25  0.25 - 0.25⋅ξ ⎦\n"
     ]
    }
   ],
   "source": [
    "'''\n",
    "Step 3: The Gradient\n",
    "'''\n",
    "\n",
    "# Calculate partial derivatives of shape functions with respect to xi and eta\n",
    "dN_dxi = [sp.diff(Ni, xi) for Ni in N]\n",
    "dN_deta = [sp.diff(Ni, eta) for Ni in N]\n",
    "\n",
    "# Set the matrix for the gradient\n",
    "G = sp.Matrix([dN_dxi, dN_deta])\n",
    "\n",
    "print(\"\\nGradient Matrix G:\")\n",
    "sp.pprint(G)\n"
   ]
  },
  {
   "cell_type": "code",
   "execution_count": 3218,
   "metadata": {},
   "outputs": [
    {
     "name": "stdout",
     "output_type": "stream",
     "text": [
      "\n",
      "Jacobian Matrix J:\n",
      "⎡1.0   0 ⎤\n",
      "⎢        ⎥\n",
      "⎣ 0   1.0⎦\n"
     ]
    }
   ],
   "source": [
    "'''\n",
    "Step 4: The Jacobian\n",
    "'''\n",
    "\n",
    "# Multiply G and E1 to get the Jacobian matrix\n",
    "J = G * E1\n",
    "\n",
    "print(\"\\nJacobian Matrix J:\")\n",
    "sp.pprint(J)\n"
   ]
  },
  {
   "cell_type": "code",
   "execution_count": 3219,
   "metadata": {},
   "outputs": [
    {
     "name": "stdout",
     "output_type": "stream",
     "text": [
      "\n",
      "Determinant of the Jacobian (det_J):\n",
      "1.00000000000000\n",
      "\n",
      "Inverse of the Jacobian (J_inv):\n",
      "Matrix([[1.00000000000000, 0], [0, 1.00000000000000]])\n"
     ]
    }
   ],
   "source": [
    "'''\n",
    "Step 5: Determinant and Inverse of the Jacobian\n",
    "'''\n",
    "\n",
    "# Calculate the determinant of the Jacobian\n",
    "det_J = J.det()\n",
    "\n",
    "# Calculate the inverse of the Jacobian\n",
    "J_inv = J.inv()\n",
    "\n",
    "print(\"\\nDeterminant of the Jacobian (det_J):\")\n",
    "print(det_J)\n",
    "\n",
    "print(\"\\nInverse of the Jacobian (J_inv):\")\n",
    "print(J_inv)\n"
   ]
  },
  {
   "cell_type": "code",
   "execution_count": 3220,
   "metadata": {},
   "outputs": [
    {
     "name": "stdout",
     "output_type": "stream",
     "text": [
      "\n",
      "B Matrix (Derivatives of Shape Functions in Global Coordinates):\n",
      "Matrix([[0.25*eta - 0.25, 0.25 - 0.25*eta, 0.25*eta + 0.25, -0.25*eta - 0.25], [0.25*xi - 0.25, -0.25*xi - 0.25, 0.25*xi + 0.25, 0.25 - 0.25*xi]])\n"
     ]
    }
   ],
   "source": [
    "'''\n",
    "Step 6: Derivatives of the Shape Functions (B)\n",
    "'''\n",
    "\n",
    "# Calculate the B matrix (derivative of the shape functions with respect to global coordinates)\n",
    "B = J_inv * G\n",
    "\n",
    "print(\"\\nB Matrix (Derivatives of Shape Functions in Global Coordinates):\")\n",
    "print(B)\n"
   ]
  },
  {
   "cell_type": "code",
   "execution_count": 3221,
   "metadata": {},
   "outputs": [
    {
     "name": "stdout",
     "output_type": "stream",
     "text": [
      "\n",
      "Conduction Matrix K for Element 1:\n",
      "⎡0.666666666666667   -0.166666666666667  -0.333333333333333  -0.16666666666666\n",
      "⎢                                                                             \n",
      "⎢-0.166666666666667  0.666666666666667   -0.166666666666667  -0.33333333333333\n",
      "⎢                                                                             \n",
      "⎢-0.333333333333333  -0.166666666666667  0.666666666666667   -0.16666666666666\n",
      "⎢                                                                             \n",
      "⎣-0.166666666666667  -0.333333333333333  -0.166666666666667  0.666666666666667\n",
      "\n",
      "7⎤\n",
      " ⎥\n",
      "3⎥\n",
      " ⎥\n",
      "7⎥\n",
      " ⎥\n",
      " ⎦\n"
     ]
    }
   ],
   "source": [
    "'''\n",
    "Step 7: The Conduction Matrix\n",
    "'''\n",
    "\n",
    "# Define the thermal conductivity for Element 1\n",
    "# This was given in the problem statement\n",
    "\n",
    "k_1 = 1\n",
    "\n",
    "# The material property matrix D for isotropic material (scalar k)\n",
    "D = k_1\n",
    "\n",
    "# Calculate the B^T * D * B product\n",
    "BT_D_B = B.T * D * B\n",
    "\n",
    "# Next I integrated over natural coordinates xi and eta, from -1 to 1\n",
    "K_element1 = sp.integrate(sp.integrate(BT_D_B * det_J, (xi, -1, 1)), (eta, -1, 1))\n",
    "\n",
    "print(\"\\nConduction Matrix K for Element 1:\")\n",
    "sp.pprint(K_element1)\n"
   ]
  },
  {
   "cell_type": "code",
   "execution_count": 3222,
   "metadata": {},
   "outputs": [
    {
     "data": {
      "text/plain": [
       "'\\nCalculate Element 2 (Triangular Element) Stiffness Matrix\\n'"
      ]
     },
     "execution_count": 3222,
     "metadata": {},
     "output_type": "execute_result"
    }
   ],
   "source": [
    "'''\n",
    "Calculate Element 2 (Triangular Element) Stiffness Matrix\n",
    "'''"
   ]
  },
  {
   "cell_type": "code",
   "execution_count": 3223,
   "metadata": {},
   "outputs": [],
   "source": [
    "'''\n",
    "Step 1: The Element Matrix\n",
    "'''\n",
    "\n",
    "# Define coordinates for triangular element (Element 2)\n",
    "E2 = sp.Matrix([[2, 2],  # Node 3\n",
    "                [2, 4],  # Node 4\n",
    "                [0, 2]]) # Node 5\n",
    "\n"
   ]
  },
  {
   "cell_type": "code",
   "execution_count": 3224,
   "metadata": {},
   "outputs": [],
   "source": [
    "'''\n",
    "Step 2: Find the Shape Functions\n",
    "'''\n",
    "# Define shape functions for a three-node triangular element\n",
    "# L1 = 1 - xi - eta, L2 = xi, L3 = eta\n",
    "N_tri1 = 1 - xi - eta\n",
    "N_tri2 = xi\n",
    "N_tri3 = eta\n",
    "N_tri = sp.Matrix([N_tri1, N_tri2, N_tri3])\n"
   ]
  },
  {
   "cell_type": "code",
   "execution_count": 3225,
   "metadata": {},
   "outputs": [],
   "source": [
    "'''\n",
    "Step 3: The Gradient\n",
    "'''\n",
    "\n",
    "# Calculate partial derivatives of triangular shape functions\n",
    "dN_tri_dxi = [sp.diff(Ni, xi) for Ni in N_tri]\n",
    "dN_tri_deta = [sp.diff(Ni, eta) for Ni in N_tri]\n",
    "\n",
    "# Set the matrix for the gradient\n",
    "G_tri = sp.Matrix([dN_tri_dxi, dN_tri_deta])\n"
   ]
  },
  {
   "cell_type": "code",
   "execution_count": 3226,
   "metadata": {},
   "outputs": [
    {
     "name": "stdout",
     "output_type": "stream",
     "text": [
      "\n",
      "Jacobian Matrix J:\n",
      "⎡1.0   0 ⎤\n",
      "⎢        ⎥\n",
      "⎣ 0   1.0⎦\n"
     ]
    }
   ],
   "source": [
    "'''\n",
    "Step 4: The Jacobian\n",
    "'''\n",
    "\n",
    "# Multiply G_tri and E2 to get the Jacobian matrix for Element 2\n",
    "J_tri = G_tri * E2\n",
    "\n",
    "\n",
    "print(\"\\nJacobian Matrix J:\")\n",
    "sp.pprint(J)"
   ]
  },
  {
   "cell_type": "code",
   "execution_count": 3227,
   "metadata": {},
   "outputs": [
    {
     "name": "stdout",
     "output_type": "stream",
     "text": [
      "\n",
      "Determinant of the Jacobian (det_J):\n",
      "4\n",
      "\n",
      "Inverse of the Jacobian (J_inv):\n",
      "⎡ 0   -1/2⎤\n",
      "⎢         ⎥\n",
      "⎣1/2   0  ⎦\n"
     ]
    }
   ],
   "source": [
    "'''\n",
    "Step 5: Determinant and Inverse of the Jacobian\n",
    "'''\n",
    "\n",
    "# Calculate the determinant of the Jacobian\n",
    "det_J_tri = J_tri.det()\n",
    "\n",
    "\n",
    "# Calculate the inverse of the Jacobian\n",
    "J_inv_tri = J_tri.inv()\n",
    "\n",
    "print(\"\\nDeterminant of the Jacobian (det_J):\")\n",
    "print(det_J_tri)\n",
    "\n",
    "print(\"\\nInverse of the Jacobian (J_inv):\")\n",
    "sp.pprint(J_inv_tri)"
   ]
  },
  {
   "cell_type": "code",
   "execution_count": 3228,
   "metadata": {},
   "outputs": [
    {
     "name": "stdout",
     "output_type": "stream",
     "text": [
      "\n",
      "B Matrix (Derivatives of Shape Functions in Global Coordinates):\n",
      "Matrix([[1/2, 0, -1/2], [-1/2, 1/2, 0]])\n"
     ]
    }
   ],
   "source": [
    "'''\n",
    "Step 6: Derivatives of the Shape Functions (B)\n",
    "'''\n",
    "\n",
    "# Calculate B matrix for triangular element in global coordinates\n",
    "B_tri = J_inv_tri * G_tri\n",
    "\n",
    "print(\"\\nB Matrix (Derivatives of Shape Functions in Global Coordinates):\")\n",
    "print(B_tri)\n"
   ]
  },
  {
   "cell_type": "code",
   "execution_count": 3229,
   "metadata": {},
   "outputs": [
    {
     "name": "stdout",
     "output_type": "stream",
     "text": [
      "\n",
      "Stiffness Matrix K for Element 2:\n",
      "⎡4   -2  -2⎤\n",
      "⎢          ⎥\n",
      "⎢-2  2   0 ⎥\n",
      "⎢          ⎥\n",
      "⎣-2  0   2 ⎦\n"
     ]
    }
   ],
   "source": [
    "'''\n",
    "Step 7: The Stiffness Matrix\n",
    "'''\n",
    "\n",
    "# Define the thermal conductivity for Element 2\n",
    "k_2 = 2\n",
    "\n",
    "D = k_2\n",
    "\n",
    "# Calculate the B^T * D * B product\n",
    "BT_D_B_tri = B_tri.T * D * B_tri\n",
    "\n",
    "# Now we integrate over natural coordinates xi and eta, from 0 to 1 (since it's a triangular element)\n",
    "K_element2 = sp.integrate(sp.integrate(BT_D_B_tri * det_J_tri, (xi, 0, 1)), (eta, 0, 1))\n",
    "\n",
    "print(\"\\nStiffness Matrix K for Element 2:\")\n",
    "sp.pprint(K_element2)\n"
   ]
  },
  {
   "cell_type": "code",
   "execution_count": 3230,
   "metadata": {},
   "outputs": [
    {
     "data": {
      "text/plain": [
       "'\\nGlobal Stiffness Matrix\\n'"
      ]
     },
     "execution_count": 3230,
     "metadata": {},
     "output_type": "execute_result"
    }
   ],
   "source": [
    "'''\n",
    "Global Stiffness Matrix\n",
    "'''"
   ]
  },
  {
   "cell_type": "code",
   "execution_count": 3231,
   "metadata": {},
   "outputs": [
    {
     "name": "stdout",
     "output_type": "stream",
     "text": [
      "\n",
      "Global Stiffness Matrix K_global:\n",
      " [[ 0.6667 -0.1667 -0.3333  0.     -0.1667]\n",
      "  [-0.1667  0.6667 -0.1667  0.     -0.3333]\n",
      "  [-0.3333 -0.1667  5.9997 -1.333  -2.8337]\n",
      "  [ 0.      0.     -1.333   5.333  -1.333 ]\n",
      " [-0.1667 -0.3333 -2.8337 -1.333   5.9997]]\n"
     ]
    }
   ],
   "source": [
    "'''\n",
    "Now I can set up the global stiffness matrix.\n",
    "I have a total of 5 nodes in the mesh.\n",
    "The global stiffness matrix will therefore be a 5x5 matrix.\n",
    "I need to map the contributions from each element stiffness matrix to the \n",
    "corresponding rows and columns in the global stiffness matrix.\n",
    "'''\n",
    "# Number of nodes in the global system\n",
    "num_nodes = 5\n",
    "\n",
    "K_global = np.zeros((num_nodes, num_nodes))\n",
    "\n",
    "\n",
    "\n",
    "# Element stiffness matrices (manually copied from earlier results)\n",
    "K_element1 = np.array([[0.6667, -0.1667, -0.3333, -0.1667],\n",
    "                       [-0.1667, 0.6667, -0.1667, -0.3333],\n",
    "                       [-0.3333, -0.1667, 0.6667, -0.1667],\n",
    "                       [-0.1667, -0.3333, -0.1667, 0.6667]])\n",
    "\n",
    "\n",
    "\n",
    "K_element2 = np.array([[5.333, -1.333, -2.667, -1.333],\n",
    "                       [-1.333, 5.333, -1.333, -2.667],\n",
    "                       [-2.667, -1.333, 5.333, -1.333],\n",
    "                       [-1.333, -2.667, -1.333, 5.333]])\n",
    "\n",
    "'''\n",
    "Element 1 (Rectangular Element) involves nodes 1, 2, 3, and 5.\n",
    "I mapped the 4x4 element stiffness matrix for Element 1 into the global stiffness matrix based on the global node numbers:\n",
    "- Node 1 maps to row/column 1.\n",
    "- Node 2 maps to row/column 2.\n",
    "- Node 3 maps to row/column 3.\n",
    "- Node 5 maps to row/column 5.\n",
    "'''\n",
    "element1_nodes = [0, 1, 2, 4]  # Nodes 1, 2, 3, 5 (Python indexing: 0-based)\n",
    "\n",
    "'''\n",
    "Now, did the same for Element 2.\n",
    "Element 2 (Triangular Element) involves nodes 3, 4, and 5.\n",
    "I mapped the 3x3 element stiffness matrix for Element 2 into the global stiffness matrix based on the global node numbers:\n",
    "- Node 3 maps to row/column 3.\n",
    "- Node 4 maps to row/column 4.\n",
    "- Node 5 maps to row/column 5.\n",
    "'''\n",
    "\n",
    "element2_nodes = [2, 3, 4]      # Nodes 3, 4, 5 (Python indexing: 0-based)\n",
    "\n",
    "# Assemble Element 1 into the global stiffness matrix\n",
    "for i in range(len(element1_nodes)):\n",
    "    for j in range(len(element1_nodes)):\n",
    "        K_global[element1_nodes[i], element1_nodes[j]] += K_element1[i, j]\n",
    "\n",
    "# Assemble Element 2 into the global stiffness matrix\n",
    "for i in range(len(element2_nodes)):\n",
    "    for j in range(len(element2_nodes)):\n",
    "        K_global[element2_nodes[i], element2_nodes[j]] += K_element2[i, j]\n",
    "\n",
    "# Print the global stiffness matrix\n",
    "print(\"\\nGlobal Stiffness Matrix K_global:\")\n",
    "sp.pprint(K_global)\n"
   ]
  },
  {
   "cell_type": "code",
   "execution_count": 3232,
   "metadata": {},
   "outputs": [
    {
     "name": "stdout",
     "output_type": "stream",
     "text": [
      "\n",
      "Global Stiffness Matrix K_global after applying boundary conditions:\n",
      "[[ 1.      0.      0.      0.      0.    ]\n",
      " [ 0.      1.      0.      0.      0.    ]\n",
      " [ 0.      0.      5.9997 -1.333  -2.8337]\n",
      " [ 0.      0.     -1.333   5.333  -1.333 ]\n",
      " [ 0.      0.     -2.8337 -1.333   5.9997]]\n",
      "\n",
      "Load Vector F after applying boundary conditions:\n",
      "[10. 10.  0.  0. 10.]\n"
     ]
    }
   ],
   "source": [
    "'''\n",
    "Apply Boundary Conditions\n",
    "'''\n",
    "\n",
    "'''\n",
    "Step 1: Define the Load Vector\n",
    "I start by defining the load vector `F`, which will represent the applied loads on the system. \n",
    "Since I have 5 nodes in the mesh, the load vector will initially be set to zeros for all 5 nodes.\n",
    "'''\n",
    "\n",
    "F = np.zeros(num_nodes)\n",
    "\n",
    "'''\n",
    "Step 2: Apply Point Source at Node 5\n",
    "There is a point source of 10 W applied at Node 5, so I assign this value to the corresponding entry in the load vector `F`.\n",
    "Note: Node 5 is at index 4 in Python's 0-based indexing system.\n",
    "'''\n",
    "\n",
    "F[4] = 10\n",
    "\n",
    "'''\n",
    "Step 3: Apply Prescribed Temperatures at Nodes 1 and 2\n",
    "The temperature is prescribed to be 10°C at nodes 1 and 2.\n",
    "These nodes correspond to indices 0 and 1.\n",
    "I will update the global stiffness matrix `K_global` and the load vector `F` to apply these boundary conditions.\n",
    "'''\n",
    "\n",
    "prescribed_nodes = [0, 1]\n",
    "prescribed_temperature = 10\n",
    "\n",
    "# Apply the boundary conditions for prescribed temperatures\n",
    "for node in prescribed_nodes:\n",
    "    '''\n",
    "    Step 4: Modify the Global Stiffness Matrix for Prescribed Temperatures\n",
    "    For each prescribed node, I set the entire row and column in the global stiffness matrix to zero.\n",
    "    This represents the fact that these nodes have a fixed temperature, so there will be no contribution to other nodes.\n",
    "    I then set the diagonal element to 1, which effectively enforces the temperature condition at these nodes.\n",
    "    '''\n",
    "    \n",
    "    # Set corresponding row and column in K_global to zero\n",
    "    K_global[node, :] = 0\n",
    "    K_global[:, node] = 0\n",
    "    \n",
    "    # Set the diagonal element to 1\n",
    "    K_global[node, node] = 1\n",
    "    \n",
    "    '''\n",
    "    Step 5: Update the Load Vector for Prescribed Temperatures\n",
    "    I set the corresponding entry in the load vector `F` to the prescribed temperature (10°C).\n",
    "    This ensures that the solution will satisfy the temperature condition at these nodes.\n",
    "    '''\n",
    "\n",
    "    # Set the corresponding entry in the load vector to the prescribed temperature\n",
    "    F[node] = prescribed_temperature\n",
    "\n",
    "print(\"\\nGlobal Stiffness Matrix K_global after applying boundary conditions:\")\n",
    "print(K_global)\n",
    "print(\"\\nLoad Vector F after applying boundary conditions:\")\n",
    "print(F)\n"
   ]
  },
  {
   "cell_type": "code",
   "execution_count": 3233,
   "metadata": {},
   "outputs": [
    {
     "name": "stdout",
     "output_type": "stream",
     "text": [
      "\n",
      "Nodal Temperatures:\n",
      "[10.         10.          1.4342666   0.99996249  2.56633353]\n"
     ]
    }
   ],
   "source": [
    "'''\n",
    "Temperatures at Nodes\n",
    "'''\n",
    "# Solve for nodal temperatures\n",
    "T = np.linalg.solve(K_global, F)\n",
    "\n",
    "# Print the nodal temperatures\n",
    "print(\"\\nNodal Temperatures:\")\n",
    "print(T)"
   ]
  },
  {
   "cell_type": "code",
   "execution_count": 3234,
   "metadata": {},
   "outputs": [],
   "source": [
    "'''\n",
    "Calculate the Temperature and Heat Flux At the Center of Each Element\n",
    "'''\n",
    "\n",
    "# Define the nodal temperatures (using the values from the solved T array)\n",
    "T_nodal = sp.Matrix([10, 10, T[2], T[3], T[4]])"
   ]
  },
  {
   "cell_type": "code",
   "execution_count": 3235,
   "metadata": {},
   "outputs": [
    {
     "name": "stdout",
     "output_type": "stream",
     "text": [
      "\n",
      "Temperature at the centroid of Element 1:\n",
      "Matrix([[6.00015003188178]])\n",
      "\n",
      "Heat Flux at the centroid of Element 1 (in global coordinates):\n",
      "Matrix([[0.283016731949193], [3.99984996811822]])\n"
     ]
    }
   ],
   "source": [
    "'''\n",
    "For Element 1 (Rectangular Element)\n",
    "'''\n",
    "\n",
    "'''\n",
    "Step 1: Define the Centroid Coordinates for Element 1 (Rectangular Element)\n",
    "To calculate properties at the centroid of the rectangular element, I need to evaluate the relevant matrices at the center.\n",
    "For a rectangular element in natural coordinates, the centroid is located at (xi, eta) = (0, 0).\n",
    "'''\n",
    "\n",
    "# Define center coordinates for rectangular element (xi = 0, eta = 0)\n",
    "xi_value = 0\n",
    "eta_value = 0\n",
    "\n",
    "'''\n",
    "Step 2: Substitute Centroid Coordinates into the B Matrix\n",
    "The B matrix contains the derivatives of the shape functions with respect to global coordinates, which I use to calculate fluxes.\n",
    "Here, I substitute the centroid coordinates (xi, eta) = (0, 0) into the B matrix to get the B matrix evaluated at the centroid.\n",
    "'''\n",
    "\n",
    "# Substitute center coordinates into the B matrix\n",
    "B_centroid = B.subs({xi: xi_value, eta: eta_value})\n",
    "\n",
    "'''\n",
    "Step 3: Define the Nodal Temperatures for Element 1\n",
    "Element 1 (the rectangular element) involves nodes 1, 2, 3, and 5.\n",
    "To calculate the temperature and heat flux at the centroid, I need the temperature values at these nodes.\n",
    "I use the solved nodal temperatures and arrange them into a column matrix.\n",
    "'''\n",
    "\n",
    "# Use nodal temperatures of Element 1 (nodes 1, 2, 3, 5)\n",
    "T_element1 = sp.Matrix([T_nodal[0], T_nodal[1], T_nodal[2], T_nodal[4]])\n",
    "\n",
    "'''\n",
    "Step 4: Calculate the Temperature at the Centroid of Element 1\n",
    "I use the shape functions to calculate the temperature at the centroid.\n",
    "By evaluating the shape functions at (xi, eta) = (0, 0) and taking the dot product with the nodal temperatures,\n",
    "I can determine the temperature at the centroid.\n",
    "'''\n",
    "\n",
    "# Calculate temperature at the centroid of Element 1 using shape functions\n",
    "N_centroid = N.subs({xi: xi_value, eta: eta_value})\n",
    "T_center_element1 = N_centroid.T * T_element1\n",
    "\n",
    "print(\"\\nTemperature at the centroid of Element 1:\")\n",
    "print(T_center_element1)\n",
    "\n",
    "'''\n",
    "Step 5: Calculate the Heat Flux at the Centroid of Element 1\n",
    "The heat flux is calculated using Fourier's law: q = -k * B * T.\n",
    "Here, I use the thermal conductivity `k_1`, the B matrix evaluated at the centroid, and the nodal temperature vector `T_element1`.\n",
    "The resulting `q_element1_centroid` represents the heat flux at the centroid in global coordinates.\n",
    "'''\n",
    "\n",
    "# Calculate heat flux at the centroid of Element 1\n",
    "q_element1_centroid = -k_1 * B_centroid * T_element1\n",
    "\n",
    "print(\"\\nHeat Flux at the centroid of Element 1 (in global coordinates):\")\n",
    "print(q_element1_centroid)\n"
   ]
  },
  {
   "cell_type": "code",
   "execution_count": 3236,
   "metadata": {},
   "outputs": [
    {
     "name": "stdout",
     "output_type": "stream",
     "text": [
      "\n",
      "Temperature at the centroid of Element 2:\n",
      "Matrix([[1.66685420651889]])\n",
      "\n",
      "Heat Flux at the centroid of Element 2 (in global coordinates):\n",
      "Matrix([[1.13206692779677], [0.434304107835608]])\n"
     ]
    }
   ],
   "source": [
    "'''\n",
    "For Element 2 (Triangular Element)\n",
    "'''\n",
    "\n",
    "'''\n",
    "Step 1: Define the Element Matrix for Element 2 (Triangular Element)\n",
    "Element 2 is a triangular element with nodes at specific coordinates. These coordinates represent Node 3, Node 4, and Node 5.\n",
    "'''\n",
    "\n",
    "# Define coordinates for triangular element (Element 2)\n",
    "E2 = sp.Matrix([[2, 2],  # Node 3\n",
    "                [2, 4],  # Node 4\n",
    "                [0, 2]]) # Node 5\n",
    "\n",
    "'''\n",
    "Step 2: Define Shape Functions for the Triangular Element\n",
    "For a three-node triangular element, we use linear shape functions defined in natural coordinates (xi, eta).\n",
    "The shape functions L1, L2, and L3 represent the contributions from each of the three nodes.\n",
    "'''\n",
    "\n",
    "# Define shape functions for a three-node triangular element\n",
    "# L1 = 1 - xi - eta, L2 = xi, L3 = eta\n",
    "N_tri1 = 1 - xi - eta\n",
    "N_tri2 = xi\n",
    "N_tri3 = eta\n",
    "N_tri = sp.Matrix([N_tri1, N_tri2, N_tri3])\n",
    "\n",
    "'''\n",
    "Step 3: Calculate the Gradient of the Shape Functions\n",
    "To determine how the shape functions change with respect to natural coordinates, I need to compute their partial derivatives.\n",
    "This involves calculating the derivatives with respect to both xi and eta for each shape function.\n",
    "'''\n",
    "\n",
    "# Calculate partial derivatives of triangular shape functions\n",
    "dN_tri_dxi = [sp.diff(Ni, xi) for Ni in N_tri]\n",
    "dN_tri_deta = [sp.diff(Ni, eta) for Ni in N_tri]\n",
    "\n",
    "# Define the gradient matrix G_tri for triangular element\n",
    "G_tri = sp.Matrix([dN_tri_dxi, dN_tri_deta])\n",
    "\n",
    "'''\n",
    "Step 4: Compute the Jacobian Matrix for Element 2\n",
    "The Jacobian matrix describes the transformation from natural coordinates (xi, eta) to global coordinates (x, y).\n",
    "I multiply the gradient matrix G_tri by the element node coordinate matrix E2 to get the Jacobian matrix.\n",
    "'''\n",
    "\n",
    "# Multiply G_tri and E2 to get the Jacobian matrix for Element 2\n",
    "J_tri = G_tri * E2\n",
    "det_J_tri = J_tri.det()\n",
    "J_inv_tri = J_tri.inv()\n",
    "\n",
    "'''\n",
    "Step 5: Derivatives of the Shape Functions in Global Coordinates (B Matrix)\n",
    "To find the derivatives of the shape functions with respect to global coordinates, I use the inverse Jacobian.\n",
    "The B matrix is obtained by multiplying the inverse Jacobian with the gradient matrix G_tri.\n",
    "'''\n",
    "\n",
    "# Calculate B matrix for triangular element in global coordinates\n",
    "B_tri = J_inv_tri * G_tri\n",
    "\n",
    "'''\n",
    "Step 6: Evaluate B Matrix at the Centroid of the Triangular Element\n",
    "The centroid of a triangular element in natural coordinates is located at (xi, eta) = (1/3, 1/3).\n",
    "I substitute these values into the B matrix to evaluate it at the centroid.\n",
    "'''\n",
    "\n",
    "# Centroid of a triangular element in natural coordinates\n",
    "xi_value = 1/3\n",
    "eta_value = 1/3\n",
    "\n",
    "# Substitute centroid coordinates into the B matrix for Element 2\n",
    "B_centroid_tri = B_tri.subs({xi: xi_value, eta: eta_value})\n",
    "\n",
    "'''\n",
    "Step 7: Define the Nodal Temperatures for Element 2\n",
    "Element 2 involves nodes 3, 4, and 5.\n",
    "I use the nodal temperatures obtained from the solution to evaluate properties at the centroid of this element.\n",
    "'''\n",
    "\n",
    "# Use nodal temperatures of Element 2 (nodes 3, 4, 5)\n",
    "T_element2 = sp.Matrix([T_nodal[2], T_nodal[3], T_nodal[4]])\n",
    "\n",
    "'''\n",
    "Step 8: Calculate the Temperature at the Centroid of Element 2\n",
    "The temperature at the centroid is computed using the shape functions.\n",
    "I evaluate the shape functions at the centroid coordinates and use them to interpolate the nodal temperatures.\n",
    "'''\n",
    "\n",
    "# Calculate temperature at the centroid of Element 2 using shape functions\n",
    "N_centroid_tri = N_tri.subs({xi: xi_value, eta: eta_value})\n",
    "T_center_element2 = N_centroid_tri.T * T_element2\n",
    "\n",
    "print(\"\\nTemperature at the centroid of Element 2:\")\n",
    "print(T_center_element2)\n",
    "\n",
    "'''\n",
    "Step 9: Calculate the Heat Flux at the Centroid of Element 2\n",
    "Using Fourier's law, I calculate the heat flux at the centroid of the triangular element.\n",
    "The heat flux is obtained by multiplying the negative thermal conductivity by the B matrix (evaluated at the centroid) and the nodal temperatures.\n",
    "'''\n",
    "\n",
    "# Calculate heat flux at the centroid of Element 2\n",
    "k_2 = 2  # Thermal conductivity for Element 2\n",
    "q_element2_centroid = -k_2 * B_centroid_tri * T_element2\n",
    "\n",
    "print(\"\\nHeat Flux at the centroid of Element 2 (in global coordinates):\")\n",
    "print(q_element2_centroid)\n"
   ]
  },
  {
   "cell_type": "markdown",
   "metadata": {},
   "source": [
    "# Problem 8.4\n",
    "\n",
    "Consider a triangular panel as shown in Figure 8.22. All dimensions are in meters. A constant temperature $T = 5^\\circ C$ is prescribed along the boundary $y = 0$. A constant boundary flux $\\bar{q} = 10 \\, \\text{W m}^{-1}$ is applied along the edges $x = 0.5$ and $y = x$. A constant heat source $s = 10 \\, \\text{W m}^{-2}$ is supplied over the panel, and a point source $P = 7 \\, \\text{W}$ acts at the origin. The material is isotropic with $k = 2 \\, \\text{W}^\\circ \\text{C}^{-1}$.\n",
    "\n",
    "1. Number the nodes counterclockwise with nodes on the essential boundary numbered first. In this case, will the element matrices ($K^e$ and $f^e$) be any different from those of the global matrices?\n",
    "\n",
    "2. Construct the conductance matrix.\n",
    "\n",
    "3. Construct the boundary flux matrix resulting from the flux acting on the edges $x = 0.5$ and $y = x$.\n",
    "\n",
    "4. Construct the source matrix consisting of uniformly distributed source $s = 10 \\, \\text{W m}^{-2}$ and point source $P = 7 \\, \\text{W}$.\n",
    "\n",
    "5. Calculate the unknown temperature matrix.\n",
    "\n",
    "6. Find the unknown reactions."
   ]
  },
  {
   "cell_type": "markdown",
   "metadata": {},
   "source": [
    "![figure_4](figure_4.png)"
   ]
  },
  {
   "cell_type": "code",
   "execution_count": 3237,
   "metadata": {},
   "outputs": [
    {
     "data": {
      "text/plain": [
       "'\\nConstruct the Conduction Matrix\\n'"
      ]
     },
     "execution_count": 3237,
     "metadata": {},
     "output_type": "execute_result"
    }
   ],
   "source": [
    "'''\n",
    "Construct the Conduction Matrix\n",
    "'''"
   ]
  },
  {
   "cell_type": "code",
   "execution_count": 3238,
   "metadata": {},
   "outputs": [],
   "source": [
    "'''\n",
    "Step 1 Create the Element Matrix\n",
    "'''\n",
    "# Corrected element matrix to reflect the actual node positions and counterclockwise ordering\n",
    "E = Matrix([[0, 0], [0.5, 0], [0.5, 0.5]])  # Node 1 (0,0), Node 2 (0.5, 0), Node 3 (0.5, 0.5)\n"
   ]
  },
  {
   "cell_type": "code",
   "execution_count": 3239,
   "metadata": {},
   "outputs": [],
   "source": [
    "'''\n",
    " Step 2: Define the Shape Functions\n",
    "'''\n",
    "\n",
    "# Natural coordinates for the triangular element\n",
    "xi, eta = sp.symbols('xi eta')\n",
    "\n",
    "# Define shape functions for triangular element\n",
    "N1 = 1 - xi - eta\n",
    "N2 = xi\n",
    "N3 = eta\n",
    "N_tri = Matrix([N1, N2, N3])"
   ]
  },
  {
   "cell_type": "code",
   "execution_count": 3240,
   "metadata": {},
   "outputs": [],
   "source": [
    "'''\n",
    "Step 3: The Gradient\n",
    "'''\n",
    "# Calculate partial derivatives of triangular shape functions\n",
    "partial_xi = [sp.diff(Ni, xi) for Ni in N_tri]\n",
    "partial_eta = [sp.diff(Ni, eta) for Ni in N_tri]\n",
    "\n",
    "# Define the gradient matrix G for the triangular element\n",
    "G = Matrix([partial_xi, partial_eta])"
   ]
  },
  {
   "cell_type": "code",
   "execution_count": 3241,
   "metadata": {},
   "outputs": [
    {
     "name": "stdout",
     "output_type": "stream",
     "text": [
      "\n",
      "Jacobian Matrix J:\n",
      "⎡0.5   0 ⎤\n",
      "⎢        ⎥\n",
      "⎣0.5  0.5⎦\n",
      "\n",
      "Determinant of Jacobian |J|:\n",
      "0.250000000000000\n",
      "\n",
      "Inverse of Jacobian J^-1:\n",
      "⎡2.0    0 ⎤\n",
      "⎢         ⎥\n",
      "⎣-2.0  2.0⎦\n"
     ]
    }
   ],
   "source": [
    "'''\n",
    "Step 4: The Jacobian\n",
    "'''\n",
    "\n",
    "# Calculate the Jacobian matrix\n",
    "J = G * E\n",
    "\n",
    "'''\n",
    "Step 5: Determinant and Inverse of the Jacobian\n",
    "'''\n",
    "\n",
    "# Calculate the determinant and inverse of the Jacobian\n",
    "J_det = J.det()\n",
    "J_inv = J.inv()\n",
    "\n",
    "print(\"\\nJacobian Matrix J:\")\n",
    "sp.pprint(J)\n",
    "print(\"\\nDeterminant of Jacobian |J|:\")\n",
    "sp.pprint(J_det)\n",
    "print(\"\\nInverse of Jacobian J^-1:\")\n",
    "sp.pprint(J_inv)"
   ]
  },
  {
   "cell_type": "code",
   "execution_count": 3242,
   "metadata": {},
   "outputs": [
    {
     "name": "stdout",
     "output_type": "stream",
     "text": [
      "\n",
      "B Matrix (Derivatives of Shape Functions in Global Coordinates):\n",
      "⎡-2.0  2.0    0 ⎤\n",
      "⎢               ⎥\n",
      "⎣ 0    -2.0  2.0⎦\n",
      "\n",
      "Conductance Matrix K for the Triangular Element:\n",
      "⎡1.0   -1.0   0  ⎤\n",
      "⎢                ⎥\n",
      "⎢-1.0  2.0   -1.0⎥\n",
      "⎢                ⎥\n",
      "⎣ 0    -1.0  1.0 ⎦\n"
     ]
    }
   ],
   "source": [
    "'''\n",
    "Step 6: Derivatives of the Shape Functions (B)\n",
    "'''\n",
    "\n",
    "# Define material property: thermal conductivity\n",
    "k = 2  # Thermal conductivity\n",
    "D = k  # Isotropic material\n",
    "\n",
    "B = J_inv * G\n",
    "\n",
    "# Compute B^T * D * B and integrate over natural coordinates\n",
    "# My results do not inclued xi and eta, which has me a little concerned\n",
    "# However they canceled out in a previous problem, so I think that is what is happening here\n",
    "B_T_D_B = B.T * D * B\n",
    "K_element = sp.integrate(sp.integrate(B_T_D_B * J_det, (xi, 0, 1 - eta)), (eta, 0, 1))\n",
    "\n",
    "print(\"\\nB Matrix (Derivatives of Shape Functions in Global Coordinates):\")\n",
    "sp.pprint(B)\n",
    "print(\"\\nConductance Matrix K for the Triangular Element:\")\n",
    "sp.pprint(K_element)"
   ]
  },
  {
   "cell_type": "code",
   "execution_count": 3243,
   "metadata": {},
   "outputs": [
    {
     "name": "stdout",
     "output_type": "stream",
     "text": [
      "\n",
      "Boundary Flux Matrix f_gamma:\n",
      "[3.75  3.75  2.5]\n"
     ]
    }
   ],
   "source": [
    "'''\n",
    "Construct the boundary Flux Matrix resulting from the flux acting on the edges x = 0.5 and y = x\n",
    "'''\n",
    "\n",
    "# Flux (q) is applied along x = 0.5 and y = x\n",
    "q = 10  # Flux value\n",
    "\n",
    "# To calculate the flux matrix, substitute appropriate boundary values into shape functions\n",
    "# Note: I wanted to integrate using -1 and 1 as my boundaries but I got weird results\n",
    "# Since the element acts as the global coordinates, I used 0 and 0.5 as my boundaries\n",
    "# This gave me a number that makes a bit more sense\n",
    "\n",
    "N_boundary_x = N_tri.subs({xi: 0.5})\n",
    "N_boundary_y = N_tri.subs({eta: xi})\n",
    "\n",
    "# Integrate along the boundaries to calculate the flux matrix\n",
    "f_gamma_x = sp.integrate(q * N_boundary_x.T, (eta, 0, 0.5))\n",
    "f_gamma_y = sp.integrate(q * N_boundary_y.T, (xi, 0, 0.5))\n",
    "\n",
    "# Add contributions from both boundaries\n",
    "f_gamma = f_gamma_x + f_gamma_y\n",
    "\n",
    "print(\"\\nBoundary Flux Matrix f_gamma:\")\n",
    "sp.pprint(f_gamma)"
   ]
  },
  {
   "cell_type": "code",
   "execution_count": 3244,
   "metadata": {},
   "outputs": [
    {
     "name": "stdout",
     "output_type": "stream",
     "text": [
      "\n",
      "Updated Source Matrix f_Omega:\n",
      "[7.41666666666667  0.416666666666667  0.416666666666667]\n"
     ]
    }
   ],
   "source": [
    "''' \n",
    "Construct the Source Matrix consisting of uniformly distributed source s = 10\n",
    "and the point source P = 7.\n",
    "'''\n",
    "\n",
    "# Given values s = 10 and P = 7 W\n",
    "s = 10\n",
    "P = 7\n",
    "\n",
    "# Calculate the source matrix\n",
    "f_Omega = sp.integrate(sp.integrate(s * N_tri.T * J_det, (xi, 0, 1 - eta)), (eta, 0, 1))\n",
    "\n",
    "\n",
    "# Node 1 is located at the origin, so P = 7 W acts directly at Node 1\n",
    "# I need to add the point source to the source matrix\n",
    "# Convert the source matrix to a list for modification\n",
    "\n",
    "f_Omega = f_Omega.tolist()  # Convert to list for modification\n",
    "f_Omega[0][0] += P  # Correct indexing to properly add point source\n",
    "f_Omega = Matrix(f_Omega)  # Convert back to Matrix\n",
    "\n",
    "print(\"\\nUpdated Source Matrix f_Omega:\")\n",
    "sp.pprint(f_Omega)"
   ]
  },
  {
   "cell_type": "code",
   "execution_count": 3245,
   "metadata": {},
   "outputs": [
    {
     "name": "stdout",
     "output_type": "stream",
     "text": [
      "\n",
      "Temperature at Node 3: 7.92 °C\n"
     ]
    }
   ],
   "source": [
    "'''\n",
    "Calculate the Unknown Temperature Matrix\n",
    "'''\n",
    "\n",
    "# Convert matrices to numerical form for calculations\n",
    "K_element_numeric = np.array(K_element).astype(np.float64)\n",
    "f_gamma_numeric = np.array(f_gamma).astype(np.float64).reshape(-1, 1)  # Ensure column vector shape\n",
    "f_Omega_numeric = np.array(f_Omega).astype(np.float64).reshape(-1, 1)  \n",
    "\n",
    "# Combine flux and source contributions\n",
    "F_numeric = f_gamma_numeric + f_Omega_numeric  \n",
    "\n",
    "# Known temperatures at nodes 1 and 2\n",
    "T_known = 5  # Temperature at nodes A and B is 5°C\n",
    "\n",
    "# Extract parts of K and F related to the unknown temperature at Node 3\n",
    "# Since both Nodes 1 and 2 have known temperatures, we only need to solve for Node 3\n",
    "K_unknown = K_element_numeric[2, 2]  # Extract the single entry for Node 3\n",
    "F_unknown = F_numeric[2] - (K_element_numeric[2, 0] * T_known + K_element_numeric[2, 1] * T_known)\n",
    "\n",
    "# Solve for the unknown temperature at Node 3\n",
    "T_unknown = F_unknown / K_unknown\n",
    "\n",
    "# Convert T_unknown from an array to a scalar value using .item()\n",
    "T_C = T_unknown.item()\n",
    "\n",
    "# Display the result\n",
    "print(\"\\nTemperature at Node 3: {:.2f} °C\".format(T_C))"
   ]
  },
  {
   "cell_type": "code",
   "execution_count": 3246,
   "metadata": {},
   "outputs": [
    {
     "name": "stdout",
     "output_type": "stream",
     "text": [
      "The reaction matrisx is:\n",
      "[[ 0.        ]\n",
      " [-2.91666667]\n",
      " [ 2.91666667]]\n",
      "\n",
      "Reaction at Node 1: 0.00 W\n",
      "Reaction at Node 2: -2.92 W\n"
     ]
    }
   ],
   "source": [
    "'''\n",
    "Calculate the Reaction Forces at Nodes 1 and 2\n",
    "'''\n",
    "\n",
    "# Form the full temperature vector\n",
    "T_full = np.array([T_known, T_known, T_C]).reshape(-1, 1)\n",
    "\n",
    "# Calculate the reaction forces using the global stiffness matrix\n",
    "F_reaction = K_element_numeric @ T_full\n",
    "\n",
    "print(f\"The reaction matrisx is:\\n{F_reaction}\")\n",
    "# Display the reaction forces at Nodes A and B\n",
    "print(\"\\nReaction at Node 1: {:.2f} W\".format(F_reaction[0, 0]))\n",
    "print(\"Reaction at Node 2: {:.2f} W\".format(F_reaction[1, 0]))"
   ]
  },
  {
   "cell_type": "markdown",
   "metadata": {},
   "source": [
    "# Problem 9.1\n",
    "Construct row 1 of the B matrix for the six-node triangle.\n",
    "\n",
    "**a.** Show that for rigid body translation, the $\\epsilon_{xx}$ strain vanishes.\n",
    "\n",
    "**b.** Let the nodal displacements be proportional to the coordinates, i.e., $u_x = ax$. Find the strain field. Does this answer make sense?\n"
   ]
  },
  {
   "cell_type": "code",
   "execution_count": 3247,
   "metadata": {},
   "outputs": [
    {
     "name": "stdout",
     "output_type": "stream",
     "text": [
      "The first row of the B matrix is:\n",
      "Matrix([[1.0 - 4.0*xi, 0, 1.0 - 4.0*eta, 0, -8.0*eta - 8.0*xi + 6.0, 0, -4.0*eta - 4.0*xi, 0, 12.0*eta + 4.0*xi - 4.0, 0, 4.0*eta + 12.0*xi - 4.0, 0]])\n"
     ]
    }
   ],
   "source": [
    "'''\n",
    "Compute row 1 of the B matrix\n",
    "'''\n",
    "\n",
    "# Here I tested some functions that I created so I dont have to keep writing the same code over and over\n",
    "# My inital thought was to get the full B matrix and then extract the first row\n",
    "# Once I got the code finding the B matrix I crated a loop to find just the first row of the B matrix\n",
    "def compute_B_row1():\n",
    "\n",
    "    # Define symbolic variables for local coordinates\n",
    "    xi, eta = sp.symbols('xi eta')\n",
    "\n",
    "    # Define the quadratic shape functions for the six-node triangle\n",
    "    N1 = xi * (2 * xi - 1)\n",
    "    N2 = eta * (2 * eta - 1)\n",
    "    N3 = (1 - xi - eta) * (2 * (1 - xi - eta) - 1)\n",
    "    N4 = 4 * xi * eta\n",
    "    N5 = 4 * eta * (1 - xi - eta)\n",
    "    N6 = 4 * xi * (1 - xi - eta)\n",
    "\n",
    "    # List of shape functions\n",
    "    shape_functions = [N1, N2, N3, N4, N5, N6]\n",
    "\n",
    "    # Assume nodal coordinates for simplicity\n",
    "    nodal_coords = {\n",
    "        'x1': 0, 'y1': 0,\n",
    "        'x2': 1, 'y2': 0,\n",
    "        'x3': 0, 'y3': 1,\n",
    "        'x4': 0.5, 'y4': 0,\n",
    "        'x5': 0.5, 'y5': 0.5,\n",
    "        'x6': 0, 'y6': 0.5\n",
    "    }\n",
    "\n",
    "    # Map global coordinates (substitute numerical values for simplicity)\n",
    "    x_global = sum(Ni * nodal_coords[f'x{i+1}'] for i, Ni in enumerate(shape_functions))\n",
    "    y_global = sum(Ni * nodal_coords[f'y{i+1}'] for i, Ni in enumerate(shape_functions))\n",
    "\n",
    "    # Compute the Jacobian matrix\n",
    "    J = sp.Matrix([\n",
    "        [sp.diff(x_global, xi), sp.diff(x_global, eta)],\n",
    "        [sp.diff(y_global, xi), sp.diff(y_global, eta)]\n",
    "    ])\n",
    "\n",
    "    # Compute the Jacobian determinant and inverse\n",
    "    J_det = J.det()\n",
    "    if J_det != 0:\n",
    "        J_inv = J.inv()\n",
    "\n",
    "        # Transform derivatives of shape functions from (xi, eta) to (x, y)\n",
    "        dN_dx = [J_inv[0, 0] * sp.diff(N, xi) + J_inv[0, 1] * sp.diff(N, eta) for N in shape_functions]\n",
    "        dN_dy = [J_inv[1, 0] * sp.diff(N, xi) + J_inv[1, 1] * sp.diff(N, eta) for N in shape_functions]\n",
    "\n",
    "        # Construct the first row of the B matrix\n",
    "        B_row1 = []\n",
    "        for i in range(len(dN_dx)):\n",
    "            B_row1.append(dN_dx[i])\n",
    "            B_row1.append(0)  # Zero placeholders for the uy components\n",
    "\n",
    "        return sp.Matrix([B_row1])  # Return as a matrix for clean display\n",
    "    else:\n",
    "        raise ValueError(\"Jacobian is singular; check the mapping.\")\n",
    "B_row_1 = compute_B_row1()\n",
    "print(f\"The first row of the B matrix is:\\n{B_row_1}\")"
   ]
  },
  {
   "cell_type": "code",
   "execution_count": 3248,
   "metadata": {},
   "outputs": [
    {
     "data": {
      "text/plain": [
       "'\\nPart b.) let the nodal displacement be proportional to the nodal coordinates, ie. u_i = a * x_i, v_i = a * y_i\\nFind the stain field. Does this answer make sense?\\n'"
      ]
     },
     "execution_count": 3248,
     "metadata": {},
     "output_type": "execute_result"
    }
   ],
   "source": [
    "'''\n",
    "Part b.) let the nodal displacement be proportional to the nodal coordinates, ie. u_i = a * x_i, v_i = a * y_i\n",
    "Find the stain field. Does this answer make sense?\n",
    "'''"
   ]
  },
  {
   "cell_type": "code",
   "execution_count": null,
   "metadata": {},
   "outputs": [
    {
     "name": "stdout",
     "output_type": "stream",
     "text": [
      "\n",
      "Strain field (ε_xx) for u_x = a*x, u_y = b*y:\n",
      "-1.0*a\n",
      "\n",
      "Strain field (ε_yy) for u_x = a*x, u_y = b*y:\n",
      "0\n",
      "\n",
      "Shear strain field (γ_xy) for u_x = a*x, u_y = b*y:\n",
      "0\n"
     ]
    }
   ],
   "source": [
    "\n",
    "# this is one area where I struggled with parent coordinates and cartesian coordinates\n",
    "# I went back Wednesday to fix these. I think I have it correct now\n",
    "def compute_B_row1():\n",
    "    '''\n",
    "    Computes the first row of the B-matrix for a six-node triangular finite element.\n",
    "    This corresponds to ε_xx strain.\n",
    "    '''\n",
    "    # Define symbolic variables for local coordinates (natural coordinates)\n",
    "    xi, eta = sp.symbols('xi eta')\n",
    "\n",
    "    # Define the quadratic shape functions for the six-node triangle\n",
    "    # These are derived based on the triangular element's geometry\n",
    "    N1 = xi * (2 * xi - 1)\n",
    "    N2 = eta * (2 * eta - 1)\n",
    "    N3 = (1 - xi - eta) * (2 * (1 - xi - eta) - 1)\n",
    "    N4 = 4 * xi * eta\n",
    "    N5 = 4 * eta * (1 - xi - eta)\n",
    "    N6 = 4 * xi * (1 - xi - eta)\n",
    "\n",
    "    # List of shape functions\n",
    "    shape_functions = [N1, N2, N3, N4, N5, N6]\n",
    "\n",
    "    # Assume nodal coordinates for simplicity\n",
    "    # These are example coordinates in the physical domain for the triangle\n",
    "    nodal_coords = {\n",
    "        'x1': 0, 'y1': 0,\n",
    "        'x2': 1, 'y2': 0,\n",
    "        'x3': 0, 'y3': 1,\n",
    "        'x4': 0.5, 'y4': 0,\n",
    "        'x5': 0.5, 'y5': 0.5,\n",
    "        'x6': 0, 'y6': 0.5\n",
    "    }\n",
    "\n",
    "    # Map global coordinates (physical domain) using the shape functions\n",
    "    x_global = sum(Ni * nodal_coords[f'x{i+1}'] for i, Ni in enumerate(shape_functions))\n",
    "    y_global = sum(Ni * nodal_coords[f'y{i+1}'] for i, Ni in enumerate(shape_functions))\n",
    "\n",
    "    # Compute the Jacobian matrix for mapping natural to global coordinates\n",
    "    J = sp.Matrix([\n",
    "        [sp.diff(x_global, xi), sp.diff(x_global, eta)],\n",
    "        [sp.diff(y_global, xi), sp.diff(y_global, eta)]\n",
    "    ])\n",
    "\n",
    "    # Compute the Jacobian determinant and inverse\n",
    "    J_det = J.det()\n",
    "    if J_det != 0:\n",
    "        # The Jacobian inverse transforms derivatives from natural to global coordinates\n",
    "        J_inv = J.inv()\n",
    "\n",
    "        # Transform derivatives of shape functions from (xi, eta) to (x, y)\n",
    "        dN_dx = [J_inv[0, 0] * sp.diff(N, xi) + J_inv[0, 1] * sp.diff(N, eta) for N in shape_functions]\n",
    "        dN_dy = [J_inv[1, 0] * sp.diff(N, xi) + J_inv[1, 1] * sp.diff(N, eta) for N in shape_functions]\n",
    "\n",
    "        # Construct the first row of the B matrix\n",
    "        # Row 1 corresponds to ε_xx = ∂u_x / ∂x\n",
    "        B_row1 = []\n",
    "        for i in range(len(dN_dx)):\n",
    "            B_row1.append(dN_dx[i])\n",
    "            B_row1.append(0)  # Zero placeholders for the u_y components\n",
    "\n",
    "        return sp.Matrix([B_row1])  # Return as a matrix for clean display\n",
    "    else:\n",
    "        raise ValueError(\"Jacobian is singular; check the mapping.\")\n",
    "\n",
    "def compute_strain_field(B_row1):\n",
    "    '''\n",
    "    Computes the strain field (ε_xx) for the displacement field u_x = a*x and u_y = b*y.\n",
    "    '''\n",
    "    # Proportional displacements: u_x = a*x and u_y = b*y\n",
    "    # These represent a uniform strain field induced by scaling in x and y directions.\n",
    "    a, b = sp.symbols('a b')  # Constants of proportionality\n",
    "\n",
    "    # Define nodal coordinates (physical domain for the triangle)\n",
    "    nodal_coords = {\n",
    "        'x1': 0, 'y1': 0,\n",
    "        'x2': 1, 'y2': 0,\n",
    "        'x3': 0, 'y3': 1,\n",
    "        'x4': 0.5, 'y4': 0,\n",
    "        'x5': 0.5, 'y5': 0.5,\n",
    "        'x6': 0, 'y6': 0.5\n",
    "    }\n",
    "\n",
    "    # Compute nodal displacements proportional to coordinates\n",
    "    # Each node's displacement depends linearly on its x and y coordinates\n",
    "    nodal_displacements = []\n",
    "    for i in range(1, 7):  # 6 nodes\n",
    "        x_i = nodal_coords[f'x{i}']\n",
    "        y_i = nodal_coords[f'y{i}']\n",
    "        nodal_displacements.append(a * x_i)  # u_x = a * x\n",
    "        nodal_displacements.append(b * y_i)  # u_y = b * y\n",
    "\n",
    "    # Compute the strain field (ε_xx) using the first row of the B matrix\n",
    "    epsilon_xx = sum(B_row1[0, i] * nodal_displacements[i] for i in range(B_row1.shape[1]))\n",
    "\n",
    "    # Simplify the strain field\n",
    "    epsilon_xx_simplified = sp.simplify(epsilon_xx) # This was a cool function I did not know about earlier\n",
    "\n",
    "    # Why it makes sense:\n",
    "    # ε_xx = -1.0 * a corresponds to uniform strain along x-axis.\n",
    "    # It depends only on a because u_x scales linearly with x.\n",
    "\n",
    "    return epsilon_xx_simplified\n",
    "\n",
    "# Testing the function for the other strains so that I can use it in later problems\n",
    "def compute_additional_strains(B_matrix):\n",
    "    '''\n",
    "    Computes additional strain components (ε_yy and γ_xy) for the displacement field u_x = a*x, u_y = b*y.\n",
    "    '''\n",
    "    a, b = sp.symbols('a b')  # Constants for proportional displacement\n",
    "\n",
    "    # Define nodal coordinates (as before)\n",
    "    nodal_coords = {\n",
    "        'x1': 0, 'y1': 0,\n",
    "        'x2': 1, 'y2': 0,\n",
    "        'x3': 0, 'y3': 1,\n",
    "        'x4': 0.5, 'y4': 0,\n",
    "        'x5': 0.5, 'y5': 0.5,\n",
    "        'x6': 0, 'y6': 0.5\n",
    "    }\n",
    "\n",
    "    # Compute nodal displacements (as before)\n",
    "    nodal_displacements = []\n",
    "    for i in range(1, 7):  # 6 nodes\n",
    "        x_i = nodal_coords[f'x{i}']\n",
    "        y_i = nodal_coords[f'y{i}']\n",
    "        nodal_displacements.append(a * x_i)  # u_x = a * x\n",
    "        nodal_displacements.append(b * y_i)  # u_y = b * y\n",
    "\n",
    "    # Compute epsilon_yy (Row 2 of B-matrix)\n",
    "    epsilon_yy = sum(B_matrix[1, i] * nodal_displacements[i] for i in range(B_matrix.shape[1]))\n",
    "    epsilon_yy_simplified = sp.simplify(epsilon_yy)\n",
    "\n",
    "    # Compute gamma_xy (Row 3 of B-matrix)\n",
    "    gamma_xy = sum(B_matrix[2, i] * nodal_displacements[i] for i in range(B_matrix.shape[1]))\n",
    "    gamma_xy_simplified = sp.simplify(gamma_xy)\n",
    "\n",
    "    # Why it makes sense:\n",
    "    # ε_yy = 0 because there is no displacement change along y for u_y = b*y.\n",
    "    # γ_xy = 0 because there is no shear displacement induced.\n",
    "\n",
    "    return epsilon_yy_simplified, gamma_xy_simplified\n",
    "\n",
    "# Main script\n",
    "if __name__ == \"__main__\":\n",
    "    # Compute Row 1 of the B-matrix\n",
    "    B_row1 = compute_B_row1()\n",
    "    #print(\"Row 1 of the B-matrix (ε_xx):\")\n",
    "    #print(B_row1)\n",
    "\n",
    "    # Compute strain field ε_xx (Part b)\n",
    "    epsilon_xx = compute_strain_field(B_row1)\n",
    "    print(\"\\nStrain field (ε_xx) for u_x = a*x, u_y = b*y:\")\n",
    "    print(epsilon_xx)\n",
    "\n",
    "    # Extend B-matrix to include ε_yy and γ_xy (assume placeholder rows)\n",
    "    B_full_matrix = sp.zeros(3, B_row1.shape[1])\n",
    "    B_full_matrix[0, :] = B_row1  # Assign Row 1\n",
    "\n",
    "    # Compute additional strain components\n",
    "    epsilon_yy, gamma_xy = compute_additional_strains(B_full_matrix)\n",
    "    print(\"\\nStrain field (ε_yy) for u_x = a*x, u_y = b*y:\")\n",
    "    print(epsilon_yy)\n",
    "    print(\"\\nShear strain field (γ_xy) for u_x = a*x, u_y = b*y:\")\n",
    "    print(gamma_xy)\n",
    "\n",
    "\n",
    "\n",
    "\n"
   ]
  },
  {
   "cell_type": "markdown",
   "metadata": {},
   "source": [
    "# Explanation of Strain Field Components\n",
    "\n",
    "## $\\epsilon_{xx}$:\n",
    "The strain $\\epsilon_{xx}$ is defined as:\n",
    "$$\n",
    "\\epsilon_{xx} = \\frac{\\partial u_x}{\\partial x}\n",
    "$$\n",
    "\n",
    "### **Given Displacement Field**:\n",
    "$$\n",
    "u_x = a \\cdot x\n",
    "$$\n",
    "Substituting into the strain definition:\n",
    "$$\n",
    "\\epsilon_{xx} = \\frac{\\partial (a \\cdot x)}{\\partial x} = a\n",
    "$$\n",
    "\n",
    "The $B$-matrix introduces a factor of $-1.0$, resulting in:\n",
    "$$\n",
    "\\epsilon_{xx} = -1.0 \\cdot a\n",
    "$$\n",
    "\n",
    "### **Physical Meaning**:\n",
    "- $\\epsilon_{xx} = -1.0 \\cdot a$ represents a **uniform compressive strain** in the $x$-direction if $a > 0$.\n",
    "- The negative sign originates from the Jacobian transformation between natural ($\\xi, \\eta$) and global ($x, y$) coordinates.\n",
    "\n",
    "---\n",
    "This should make sense because the strain is along the s direction so we dont expect to see anything along the y.\n",
    "---\n",
    "\n",
    "## Summary Table:\n",
    "| Strain Component  | Result             | Physical Meaning                                      |\n",
    "|-------------------|--------------------|------------------------------------------------------|\n",
    "| $\\epsilon_{xx}$   | $-1.0 \\cdot a$     | Uniform compressive strain in $x$-direction (if $a > 0$) |\n",
    "| $\\epsilon_{yy}$   | $0$                | No normal strain in $y$-direction                   |\n",
    "| $\\gamma_{xy}$     | $0$                | No shear strain between $x$- and $y$-directions     |\n",
    "\n"
   ]
  },
  {
   "cell_type": "markdown",
   "metadata": {},
   "source": [
    "# Problem 9.3\n",
    "\n",
    "Consider a quadrilateral domain model of unit thickness with a single finite element as shown in Figure 9.15. All dimensions are in meters. The traction applied on the edge 1–2 is normal to the edge and is given by $ 6 \\cdot n N m^{-2}$, where n is the unit vector normal to the edge.\n",
    "Calculate the element boundary force matrix."
   ]
  },
  {
   "cell_type": "markdown",
   "metadata": {},
   "source": [
    "![figure_5](figure_5.png)"
   ]
  },
  {
   "cell_type": "code",
   "execution_count": 3250,
   "metadata": {},
   "outputs": [],
   "source": [
    "# Define symbols\n",
    "xi, eta = sp.symbols('xi eta')  # xi (ξ) and eta (η) are the natural coordinates"
   ]
  },
  {
   "cell_type": "code",
   "execution_count": null,
   "metadata": {},
   "outputs": [
    {
     "name": "stdout",
     "output_type": "stream",
     "text": [
      "Unit normal vector (n_1_2):\n",
      "⎡-0.928476690885259⎤\n",
      "⎢                  ⎥\n",
      "⎣0.371390676354104 ⎦\n"
     ]
    }
   ],
   "source": [
    "'''\n",
    "Set up a matrix for the normal vector n for the edge 1-2\n",
    "'''\n",
    "# I wanted to get the normal vector of the force acting on the edge 1-2\n",
    "# I may not need it, but it makes sense to have since it is at an angle\n",
    "\n",
    "# Edge vector from Node 1 to Node 2\n",
    "edge_1_2 = sp.Matrix([-1.5, 0.6])  \n",
    "# Normalize to get the unit vector\n",
    "n_1_2 = edge_1_2 / edge_1_2.norm()  \n",
    "print(\"Unit normal vector (n_1_2):\")\n",
    "sp.pprint(n_1_2)"
   ]
  },
  {
   "cell_type": "code",
   "execution_count": 3252,
   "metadata": {},
   "outputs": [
    {
     "name": "stdout",
     "output_type": "stream",
     "text": [
      "\n",
      "Traction vector (t):\n",
      "⎡-5.57086014531156⎤\n",
      "⎢                 ⎥\n",
      "⎣2.22834405812462 ⎦\n"
     ]
    }
   ],
   "source": [
    "'''\n",
    "Traction boundary condition\n",
    "'''\n",
    "# The traction on the edge is given as tau * n\n",
    "tau = 6  # Magnitude of traction\n",
    "t = tau * n_1_2  # Traction vector\n",
    "print(\"\\nTraction vector (t):\")\n",
    "sp.pprint(t)"
   ]
  },
  {
   "cell_type": "code",
   "execution_count": 3253,
   "metadata": {},
   "outputs": [
    {
     "name": "stdout",
     "output_type": "stream",
     "text": [
      "\n",
      "Length of edge 1-2:\n",
      "1.61554944214035\n"
     ]
    }
   ],
   "source": [
    "'''\n",
    "Length of the edge 1-2\n",
    "'''\n",
    "length_1_2 = edge_1_2.norm()\n",
    "print(\"\\nLength of edge 1-2:\")\n",
    "sp.pprint(length_1_2)"
   ]
  },
  {
   "cell_type": "code",
   "execution_count": 3254,
   "metadata": {},
   "outputs": [],
   "source": [
    "'''\n",
    "Setting up the shape functions\n",
    "'''\n",
    "# Shape functions for the 4-node quadrilateral element\n",
    "N_1 = (1/4) * (1-xi) * (1-eta)\n",
    "N_2 = (1/4) * (1+xi) * (1-eta)\n",
    "N_3 = (1/4) * (1+xi) * (1+eta)\n",
    "N_4 = (1/4) * (1-xi) * (1+eta)\n",
    "\n",
    "# Combine shape functions into a matrix\n",
    "N = sp.Matrix([N_1, N_2, N_3, N_4])\n"
   ]
  },
  {
   "cell_type": "code",
   "execution_count": 3255,
   "metadata": {},
   "outputs": [
    {
     "name": "stdout",
     "output_type": "stream",
     "text": [
      "\n",
      "Boundary force vector (f_edge):\n",
      "⎡2.25⋅η - 2.25⎤\n",
      "⎢             ⎥\n",
      "⎢ 0.9 - 0.9⋅η ⎥\n",
      "⎢             ⎥\n",
      "⎢2.25⋅η - 2.25⎥\n",
      "⎢             ⎥\n",
      "⎢ 0.9 - 0.9⋅η ⎥\n",
      "⎢             ⎥\n",
      "⎢      0      ⎥\n",
      "⎢             ⎥\n",
      "⎣      0      ⎦\n"
     ]
    }
   ],
   "source": [
    "'''\n",
    "Calculate the force contribution to each node\n",
    "'''\n",
    "# For edge 1-2, eta = -1, so shape functions simplify\n",
    "#N_1_edge = (1/2) * (1 - xi)  # Shape function for Node 1 on edge 1-2\n",
    "#N_2_edge = (1/2) * (1 + xi)  # Shape function for Node 2 on edge 1-2\n",
    "\n",
    "# Force contributions to nodes on edge 1-2\n",
    "f1 = sp.integrate(N_1 * t * (length_1_2 / 2), (xi, -1, 1))\n",
    "f2 = sp.integrate(N_2 * t * (length_1_2 / 2), (xi, -1, 1))\n",
    "\n",
    "# Combine results into the force vector for edge 1-2\n",
    "f_edge = sp.Matrix([f1, f2, sp.S(0), sp.S(0)])  # Forces at Nodes 3 and 4 are 0\n",
    "print(\"\\nBoundary force vector (f_edge):\")\n",
    "sp.pprint(f_edge)\n",
    "\n",
    "\n"
   ]
  },
  {
   "cell_type": "code",
   "execution_count": null,
   "metadata": {},
   "outputs": [
    {
     "name": "stdout",
     "output_type": "stream",
     "text": [
      "\n",
      "Boundary force vector with eta = -1:\n",
      "⎡-4.5⎤\n",
      "⎢    ⎥\n",
      "⎢1.8 ⎥\n",
      "⎢    ⎥\n",
      "⎢-4.5⎥\n",
      "⎢    ⎥\n",
      "⎢1.8 ⎥\n",
      "⎢    ⎥\n",
      "⎢ 0  ⎥\n",
      "⎢    ⎥\n",
      "⎣ 0  ⎦\n"
     ]
    }
   ],
   "source": [
    "'''\n",
    "Substitute eta = -1 into the matrix for numerical results\n",
    "'''\n",
    "f_edge_eta_substituted = f_edge.subs(eta, -1)\n",
    "print(\"\\nBoundary force vector with eta = -1:\")\n",
    "sp.pprint(f_edge_eta_substituted)"
   ]
  },
  {
   "cell_type": "markdown",
   "metadata": {},
   "source": [
    "# Problem 9.5\n",
    "\n",
    "Consider a one-element triangular mesh shown in Figure 9.18. The boundary conditions are as follows. The edge BC is constrained in y and traction free in x, whereas the edge AB is constrained in x and traction free in y. The edge AC is subject to traction normal to the edge as shown in Figure 9.18. Assume Young’s modulus $ E = 3 \\cdot 10^{11} $ Pa and Poisson’s ratio $ \\nu = 0.3 $.\n",
    "\n",
    "a. Construct the weak form corresponding to the generalized boundary conditions given in Section 9.5.\n",
    "\n",
    "b. Construct the stiffness matrix.\n",
    "\n",
    "c. Calculate the global force matrix.\n",
    "\n",
    "d. Solve for the unknown displacement matrix and calculate the stress at (1.5,1.5).\n"
   ]
  },
  {
   "cell_type": "markdown",
   "metadata": {},
   "source": [
    "![figure_6](figure_6.png)"
   ]
  },
  {
   "cell_type": "code",
   "execution_count": 3257,
   "metadata": {},
   "outputs": [],
   "source": [
    "# Given values\n",
    "\n",
    "E = 3E11\n",
    "nu = 0.3\n",
    "t = 15\n"
   ]
  },
  {
   "cell_type": "code",
   "execution_count": null,
   "metadata": {},
   "outputs": [],
   "source": [
    "'''\n",
    "Calculate the Coordinate Matrix\n",
    "'''\n",
    "'''\n",
    "I got this idea that I could enter the cartesean coordinates\n",
    "Then I could enter \"quad\" or \"tri\" into a function and the function would return \n",
    "the Coordinate Matrix, the Shape Function, and would map the nodes to the global coordinates.\n",
    "A lot of the code below is trying to make that happen, but it definetly needs some work\n",
    "'''\n",
    "XY = sp.Matrix([[0, 0], [3, 0], [0, 3]])"
   ]
  },
  {
   "cell_type": "code",
   "execution_count": 3259,
   "metadata": {},
   "outputs": [
    {
     "name": "stdout",
     "output_type": "stream",
     "text": [
      "\n",
      "Constitutive matrix D:\n",
      "[[3.29670330e+11 9.89010989e+10 0.00000000e+00] \n",
      " [9.89010989e+10 3.29670330e+11 0.00000000e+00] \n",
      " [0.00000000e+00 0.00000000e+00 1.15384615e+11]]\n"
     ]
    }
   ],
   "source": [
    "'''\n",
    "Plane stress constitutive matrix D\n",
    "'''\n",
    "\n",
    "D = (E / (1 - nu**2)) * np.array([\n",
    "    [1, nu, 0],\n",
    "    [nu, 1, 0],\n",
    "    [0, 0, (1 - nu) / 2]\n",
    "])\n",
    "\n",
    "print(\"\\nConstitutive matrix D:\")\n",
    "sp.pprint(D)\n",
    "\n"
   ]
  },
  {
   "cell_type": "code",
   "execution_count": 3260,
   "metadata": {},
   "outputs": [
    {
     "name": "stdout",
     "output_type": "stream",
     "text": [
      "\n",
      "Shape Function Matrix N:\n",
      "⎡-η - ξ + 1⎤\n",
      "⎢          ⎥\n",
      "⎢    ξ     ⎥\n",
      "⎢          ⎥\n",
      "⎣    η     ⎦\n"
     ]
    }
   ],
   "source": [
    "'''\n",
    "Find the Shape Functions for 3-Node Triangular Element\n",
    "'''\n",
    "# Define natural coordinates (xi, eta)\n",
    "xi, eta = sp.symbols('xi eta')\n",
    "\n",
    "# Define shape functions for a three-node triangular element\n",
    "N1 = 1 - xi - eta\n",
    "N2 = xi\n",
    "N3 = eta\n",
    "\n",
    "# Collect shape functions into a matrix\n",
    "N = sp.Matrix([N1, N2, N3])\n",
    "\n",
    "print(\"\\nShape Function Matrix N:\")\n",
    "sp.pprint(N)"
   ]
  },
  {
   "cell_type": "code",
   "execution_count": 3261,
   "metadata": {},
   "outputs": [
    {
     "name": "stdout",
     "output_type": "stream",
     "text": [
      "\n",
      "Gradient Matrix G:\n",
      "⎡-1  1  0⎤\n",
      "⎢        ⎥\n",
      "⎣-1  0  1⎦\n",
      "\n",
      "Jacobian Matrix J:\n",
      "⎡3  0⎤\n",
      "⎢    ⎥\n",
      "⎣0  3⎦\n"
     ]
    }
   ],
   "source": [
    "'''\n",
    "Step 3: The Gradient\n",
    "'''\n",
    "\n",
    "# Define symbols\n",
    "xi, eta = sp.symbols('xi eta')  # xi (ξ) and eta (η) are the natural coordinates\n",
    "\n",
    "\n",
    "\n",
    "# Calculate partial derivatives of shape functions with respect to xi and eta\n",
    "dN_dxi = [sp.diff(Ni, xi) for Ni in N]\n",
    "dN_deta = [sp.diff(Ni, eta) for Ni in N]\n",
    "\n",
    "# Set the matrix for the gradient\n",
    "GN = sp.Matrix([dN_dxi, dN_deta])  \n",
    "\n",
    "print(\"\\nGradient Matrix G:\")\n",
    "sp.pprint(GN)\n",
    "\n",
    "''' \n",
    "Jacobian Matrix\n",
    "'''\n",
    "\n",
    "\n",
    "# Jacobian Matrix J (2x3 gradient matrix multiplied by 3x2 coordinate matrix)\n",
    "J = GN * XY\n",
    "\n",
    "\n",
    "print(\"\\nJacobian Matrix J:\")\n",
    "sp.pprint(J)\n"
   ]
  },
  {
   "cell_type": "code",
   "execution_count": null,
   "metadata": {},
   "outputs": [
    {
     "name": "stdout",
     "output_type": "stream",
     "text": [
      "\n",
      "Jacobian Matrix J:\n",
      "⎡3  0⎤\n",
      "⎢    ⎥\n",
      "⎣0  3⎦\n",
      "\n",
      "Determinant of the Jacobian det(J):\n",
      "9\n",
      "\n",
      "Inverse of the Jacobian J_inv:\n",
      "⎡1/3   0 ⎤\n",
      "⎢        ⎥\n",
      "⎣ 0   1/3⎦\n"
     ]
    }
   ],
   "source": [
    "'''\n",
    "Determine the Jacobian Matrix, determinant, and the inverse\n",
    "'''\n",
    "\n",
    "# Derivatives of shape functions with respect to natural coordinates (xi, eta)\n",
    "dN_dxi = sp.Matrix([sp.diff(N1, xi), sp.diff(N2, xi), sp.diff(N3, xi)])\n",
    "dN_deta = sp.Matrix([sp.diff(N1, eta), sp.diff(N2, eta), sp.diff(N3, eta)])\n",
    "\n",
    "# Set up the Jacobian matrix\n",
    "# J = [x1 x2 x3] * [dN/dxi; dN/deta]\n",
    "J = sp.Matrix([[dN_dxi.dot(XY[:, 0]), dN_dxi.dot(XY[:, 1])],\n",
    "               [dN_deta.dot(XY[:, 0]), dN_deta.dot(XY[:, 1])]])\n",
    "\n",
    "# Determinant of the Jacobian\n",
    "# I was getting 0 for the determinant initially for some reason. Ultimatley got it fixed.\n",
    "det_J = J.det()\n",
    "\n",
    "# Inverse of the Jacobian\n",
    "J_inv = J.inv() if det_J != 0 else None\n",
    "\n",
    "print(\"\\nJacobian Matrix J:\")\n",
    "sp.pprint(J)\n",
    "\n",
    "print(\"\\nDeterminant of the Jacobian det(J):\")\n",
    "sp.pprint(det_J)\n",
    "\n",
    "if J_inv:\n",
    "    print(\"\\nInverse of the Jacobian J_inv:\")\n",
    "    sp.pprint(J_inv)\n",
    "else:\n",
    "    print(\"\\nThe Jacobian matrix is singular, no inverse exists.\")"
   ]
  },
  {
   "cell_type": "code",
   "execution_count": 3263,
   "metadata": {},
   "outputs": [
    {
     "name": "stdout",
     "output_type": "stream",
     "text": [
      "\n",
      "Strain-Displacement Matrix B:\n",
      "⎡-1/3   0    1/3   0    0    0 ⎤\n",
      "⎢                              ⎥\n",
      "⎢ 0    -1/3   0    0    0   1/3⎥\n",
      "⎢                              ⎥\n",
      "⎣-1/3  -1/3   0   1/3  1/3   0 ⎦\n"
     ]
    }
   ],
   "source": [
    "'''\n",
    "Strain-displacement matrix B\n",
    "'''\n",
    "# Derivatives of shape functions with respect to physical coordinates (x, y)\n",
    "if J_inv:\n",
    "    # Matrix containing derivatives of shape functions in natural coordinates\n",
    "    dN_dxi_eta = sp.Matrix([[dN_dxi[0], dN_deta[0]],\n",
    "                            [dN_dxi[1], dN_deta[1]],\n",
    "                            [dN_dxi[2], dN_deta[2]]])\n",
    "    \n",
    "    # Multiply by the inverse Jacobian to get derivatives with respect to (x, y)\n",
    "    dN_dx_dy = J_inv * dN_dxi_eta.T\n",
    "\n",
    "    # Strain-displacement matrix B\n",
    "    B = sp.zeros(3, 6)\n",
    "    for i in range(3):\n",
    "        dN_dx = dN_dx_dy[0, i]\n",
    "        dN_dy = dN_dx_dy[1, i]\n",
    "\n",
    "        # Fill the B matrix for each node\n",
    "        B[0, 2 * i] = dN_dx     # dNi/dx term for normal strain in x\n",
    "        B[1, 2 * i + 1] = dN_dy # dNi/dy term for normal strain in y\n",
    "        B[2, 2 * i] = dN_dy     # dNi/dy in shear strain component\n",
    "        B[2, 2 * i + 1] = dN_dx # dNi/dx in shear strain component\n",
    "\n",
    "    print(\"\\nStrain-Displacement Matrix B:\")\n",
    "    sp.pprint(B)\n",
    "else:\n",
    "    print(\"\\nThe Jacobian matrix is singular, no inverse exists.\")"
   ]
  },
  {
   "cell_type": "code",
   "execution_count": null,
   "metadata": {},
   "outputs": [
    {
     "name": "stdout",
     "output_type": "stream",
     "text": [
      "\n",
      "Conduction Matrix Expression (before integration, K):\n",
      "⎡49450549450.5494   23809523809.5238   -36630036630.0366  -12820512820.5128  -\n",
      "⎢                                                                             \n",
      "⎢23809523809.5238   49450549450.5494   -10989010989.011   -12820512820.5128  -\n",
      "⎢                                                                             \n",
      "⎢-36630036630.0366  -10989010989.011   36630036630.0366           0           \n",
      "⎢                                                                             \n",
      "⎢-12820512820.5128  -12820512820.5128          0          12820512820.5128   1\n",
      "⎢                                                                             \n",
      "⎢-12820512820.5128  -12820512820.5128          0          12820512820.5128   1\n",
      "⎢                                                                             \n",
      "⎣-10989010989.011   -36630036630.0366   10989010989.011           0           \n",
      "\n",
      "12820512820.5128  -10989010989.011 ⎤\n",
      "                                   ⎥\n",
      "12820512820.5128  -36630036630.0366⎥\n",
      "                                   ⎥\n",
      "       0           10989010989.011 ⎥\n",
      "                                   ⎥\n",
      "2820512820.5128           0        ⎥\n",
      "                                   ⎥\n",
      "2820512820.5128           0        ⎥\n",
      "                                   ⎥\n",
      "       0          36630036630.0366 ⎦\n",
      "\n",
      "Conduction Matrix (K) after integration:\n",
      "⎡24725274725.2747   11904761904.7619   -18315018315.0183  -6410256410.25641  -\n",
      "⎢                                                                             \n",
      "⎢11904761904.7619   24725274725.2747   -5494505494.50549  -6410256410.25641  -\n",
      "⎢                                                                             \n",
      "⎢-18315018315.0183  -5494505494.50549  18315018315.0183           0           \n",
      "⎢                                                                             \n",
      "⎢-6410256410.25641  -6410256410.25641          0          6410256410.25641   6\n",
      "⎢                                                                             \n",
      "⎢-6410256410.25641  -6410256410.25641          0          6410256410.25641   6\n",
      "⎢                                                                             \n",
      "⎣-5494505494.50549  -18315018315.0183  5494505494.50549           0           \n",
      "\n",
      "6410256410.25641  -5494505494.50549⎤\n",
      "                                   ⎥\n",
      "6410256410.25641  -18315018315.0183⎥\n",
      "                                   ⎥\n",
      "       0          5494505494.50549 ⎥\n",
      "                                   ⎥\n",
      "410256410.25641           0        ⎥\n",
      "                                   ⎥\n",
      "410256410.25641           0        ⎥\n",
      "                                   ⎥\n",
      "       0          18315018315.0183 ⎦\n"
     ]
    },
    {
     "data": {
      "text/latex": [
       "$\\displaystyle \\left[\\begin{matrix}24725274725.2747 & 11904761904.7619 & -18315018315.0183 & -6410256410.25641 & -6410256410.25641 & -5494505494.50549\\\\11904761904.7619 & 24725274725.2747 & -5494505494.50549 & -6410256410.25641 & -6410256410.25641 & -18315018315.0183\\\\-18315018315.0183 & -5494505494.50549 & 18315018315.0183 & 0 & 0 & 5494505494.50549\\\\-6410256410.25641 & -6410256410.25641 & 0 & 6410256410.25641 & 6410256410.25641 & 0\\\\-6410256410.25641 & -6410256410.25641 & 0 & 6410256410.25641 & 6410256410.25641 & 0\\\\-5494505494.50549 & -18315018315.0183 & 5494505494.50549 & 0 & 0 & 18315018315.0183\\end{matrix}\\right]$"
      ],
      "text/plain": [
       "Matrix([\n",
       "[ 24725274725.2747,  11904761904.7619, -18315018315.0183, -6410256410.25641, -6410256410.25641, -5494505494.50549],\n",
       "[ 11904761904.7619,  24725274725.2747, -5494505494.50549, -6410256410.25641, -6410256410.25641, -18315018315.0183],\n",
       "[-18315018315.0183, -5494505494.50549,  18315018315.0183,                 0,                 0,  5494505494.50549],\n",
       "[-6410256410.25641, -6410256410.25641,                 0,  6410256410.25641,  6410256410.25641,                 0],\n",
       "[-6410256410.25641, -6410256410.25641,                 0,  6410256410.25641,  6410256410.25641,                 0],\n",
       "[-5494505494.50549, -18315018315.0183,  5494505494.50549,                 0,                 0,  18315018315.0183]])"
      ]
     },
     "execution_count": 3264,
     "metadata": {},
     "output_type": "execute_result"
    }
   ],
   "source": [
    "# This is the craxy program I used to get K.\n",
    "# I had issues with constricting the matrix based on eta and xi\n",
    "# I think that may be why I am getting different sized matrices\n",
    "compute_conduction_matrix_with_D(B, D, \"tri\")"
   ]
  },
  {
   "cell_type": "code",
   "execution_count": null,
   "metadata": {},
   "outputs": [
    {
     "name": "stdout",
     "output_type": "stream",
     "text": [
      "Global Force Vector F:\n",
      "⎡45⋅√2⎤\n",
      "⎢─────⎥\n",
      "⎢  4  ⎥\n",
      "⎢     ⎥\n",
      "⎢  0  ⎥\n",
      "⎢     ⎥\n",
      "⎢  0  ⎥\n",
      "⎢     ⎥\n",
      "⎢  0  ⎥\n",
      "⎢     ⎥\n",
      "⎢45⋅√2⎥\n",
      "⎢─────⎥\n",
      "⎢  4  ⎥\n",
      "⎢     ⎥\n",
      "⎣  0  ⎦\n"
     ]
    }
   ],
   "source": [
    "\n",
    "# Define traction applied on edge AC\n",
    "t = 15  # Traction in N/m²\n",
    "\n",
    "# Coordinates of nodes A and C (used to calculate length of the edge)\n",
    "XA, YA = 0, 3\n",
    "XC, YC = 3, 0\n",
    "\n",
    "# Length of edge AC\n",
    "L_AC = sp.sqrt((XC - XA)**2 + (YC - YA)**2)\n",
    "\n",
    "# Shape functions for nodes A and C (assuming linear shape functions along the edge)\n",
    "N_A = 1 - sp.Symbol('xi')  # Shape function for Node A\n",
    "N_C = sp.Symbol('xi')      # Shape function for Node C\n",
    "\n",
    "# Equivalent nodal forces for Nodes A and C due to traction t on edge AC\n",
    "f_A = t * sp.integrate(N_A * L_AC / 2, ('xi', 0, 1))\n",
    "f_C = t * sp.integrate(N_C * L_AC / 2, ('xi', 0, 1))\n",
    "\n",
    "# Assemble the force vector (6x1) for the triangular element (force contributions for Nodes A, B, and C)\n",
    "# Note: Only nodes A and C are affected by the traction, Node B has no force contribution\n",
    "F = sp.Matrix([f_A, 0, 0, 0, f_C, 0])\n",
    "\n",
    "# Display the force vector\n",
    "print(\"Global Force Vector F:\")\n",
    "sp.pprint(F)\n"
   ]
  },
  {
   "cell_type": "code",
   "execution_count": null,
   "metadata": {},
   "outputs": [
    {
     "name": "stdout",
     "output_type": "stream",
     "text": [
      "\n",
      "Nodal Displacements:\n",
      "u1: 0\n",
      "u2: 5.1923076949123e-11*sqrt(2)\n",
      "u3: 0\n",
      "u4: 0\n",
      "u5: -9.45000000395446e-10*sqrt(2)\n",
      "u6: 0\n"
     ]
    }
   ],
   "source": [
    "\n",
    "# Define symbols for nodal displacements\n",
    "u1, u2, u3, u4, u5, u6 = sp.symbols('u1 u2 u3 u4 u5 u6')\n",
    "u = sp.Matrix([u1, u2, u3, u4, u5, u6])\n",
    "\n",
    "# This is where I \"forced\" the K matrix to be the same as the one above\n",
    "# I kept getting a misatch matrix error when I used the above K (which I still dont understand)\n",
    "# But when I manually input it, it seems to work.\n",
    "K = sp.Matrix([\n",
    "    [2.472527472e10, 1.190476190e10, -1.831501831e10, -6.410256410e9, -1.831501831e10, -6.410256410e9],\n",
    "    [1.190476190e10, 2.472527472e10, -5.494505494e9, -6.410256410e9, -5.494505494e9, -1.831501831e10],\n",
    "    [-1.831501831e10, -5.494505494e9, 1.831501831e10, 0, 0, -1.831501831e10],\n",
    "    [-6.410256410e9, -6.410256410e9, 0, 6.410256410e9, 6.410256410e9, 6.410256410e9],\n",
    "    [-1.831501831e10, -5.494505494e9, 0, 6.410256410e9, 1.831501831e10, -6.410256410e9],\n",
    "    [-5.494505494e9, -1.831501831e10, 6.410256410e9, 6.410256410e9, 0, 1.831501831e10]\n",
    "])\n",
    "\n",
    "# Global Force Vector F\n",
    "F = sp.Matrix([45*sp.sqrt(2)/4, 0, 0, 0, 45*sp.sqrt(2)/4, 0])\n",
    "\n",
    "# Solve the linear system to find displacements u from Ku = F\n",
    "u_solutions = sp.linsolve((K, F))\n",
    "u_solutions = list(u_solutions)[0]  # Get the tuple from the solution set\n",
    "\n",
    "# Create a dictionary to map displacement variables to the solutions\n",
    "u_mapping = {u[i]: u_solutions[i] for i in range(len(u))}\n",
    "\n",
    "print(\"\\nNodal Displacements:\")\n",
    "for i, disp in enumerate(u_solutions):\n",
    "    print(f\"u{i+1}: {disp}\")\n",
    "\n",
    "\n",
    "\n"
   ]
  },
  {
   "cell_type": "code",
   "execution_count": 3267,
   "metadata": {},
   "outputs": [
    {
     "name": "stdout",
     "output_type": "stream",
     "text": [
      "\n",
      "Strain Vector ε:\n",
      "⎡           0            ⎤\n",
      "⎢                        ⎥\n",
      "⎢-1.73076923163743e-11⋅√2⎥\n",
      "⎢                        ⎥\n",
      "⎣-3.3230769244819e-10⋅√2 ⎦\n"
     ]
    }
   ],
   "source": [
    "'''\n",
    "Calculate Strain at (1.5, 1.5)\n",
    "'''\n",
    "\n",
    "# Since the K value was off, I forced the B matrix here too\n",
    "B = sp.Matrix([\n",
    "    [-1/3, 0, 1/3, 0, 0, 0],\n",
    "    [0, -1/3, 0, 0, 0, 1/3],\n",
    "    [-1/3, -1/3, 0, 1/3, 1/3, 0]\n",
    "])\n",
    "\n",
    "# Calculate strain at (1.5, 1.5) using ε = B * u\n",
    "strain = B * u\n",
    "\n",
    "# Substitute numerical values for displacements using the dictionary\n",
    "strain = strain.subs(u_mapping)\n",
    "\n",
    "# Print the strain result\n",
    "print(\"\\nStrain Vector ε:\")\n",
    "sp.pprint(strain)\n"
   ]
  },
  {
   "cell_type": "code",
   "execution_count": 3268,
   "metadata": {},
   "outputs": [
    {
     "name": "stdout",
     "output_type": "stream",
     "text": [
      "\n",
      "Stress Vector σ:\n",
      "⎡-1.71174978953153⋅√2⎤\n",
      "⎢                    ⎥\n",
      "⎢-5.70583263177176⋅√2⎥\n",
      "⎢                    ⎥\n",
      "⎣-38.3431952824834⋅√2⎦\n"
     ]
    }
   ],
   "source": [
    "'''\n",
    "Calculate the Stress\n",
    "'''\n",
    "\n",
    "# Calculate stress using sigma = D * e\n",
    "stress = D * strain\n",
    "\n",
    "\n",
    "print(\"\\nStress Vector σ:\")\n",
    "sp.pprint(stress)\n"
   ]
  },
  {
   "cell_type": "markdown",
   "metadata": {},
   "source": []
  }
 ],
 "metadata": {
  "kernelspec": {
   "display_name": "Python 3",
   "language": "python",
   "name": "python3"
  },
  "language_info": {
   "codemirror_mode": {
    "name": "ipython",
    "version": 3
   },
   "file_extension": ".py",
   "mimetype": "text/x-python",
   "name": "python",
   "nbconvert_exporter": "python",
   "pygments_lexer": "ipython3",
   "version": "3.12.4"
  }
 },
 "nbformat": 4,
 "nbformat_minor": 2
}
